{
 "cells": [
  {
   "cell_type": "code",
   "execution_count": 42,
   "metadata": {
    "collapsed": true
   },
   "outputs": [],
   "source": [
    "from sqlalchemy.engine import URL\n",
    "from sqlalchemy import create_engine\n",
    "import pandas as pd\n",
    "from datetime import datetime\n",
    "\n",
    "username='clusterInstaller'\n",
    "password='clusterInstaller'\n",
    "database='RSVRCuratedInterfaceFinacleTZ'\n",
    "port='1433'\n",
    "TDS_Version='8.0'\n",
    "# server='localhost\\SQLSERVER2019'\n",
    "server='10.231.33.102'\n",
    "driver='FreeTDS'"
   ]
  },
  {
   "cell_type": "code",
   "execution_count": 43,
   "outputs": [],
   "source": [
    "connection_string = 'DRIVER={ODBC Driver 18 for SQL Server};SERVER='+server+';DATABASE='+database+';ENCRYPT=yes;TrustServerCertificate=Yes;UID='+username+';PWD='+ password\n",
    "connection_url = URL.create(\"mssql+pyodbc\", query={\"odbc_connect\": connection_string})\n",
    "\n",
    "engine = create_engine(connection_url)"
   ],
   "metadata": {
    "collapsed": false
   }
  },
  {
   "cell_type": "code",
   "execution_count": 46,
   "outputs": [],
   "source": [
    "myQuery = \"SELECT * FROM CustomerAccountMasterList.vwCuratedTZACustomerListReportStg\"\n",
    "myQuery1 = \"SELECT * FROM CustomerAccountMasterList.vwCuratedTZACustomerListPrimary\"\n",
    "\n",
    "df = pd.read_sql_query(myQuery, engine)\n",
    "df1 = pd.read_sql_query(myQuery1, engine)\n",
    "\n",
    "df['JOB_DATE'] = datetime.today().strftime('%Y-%m-%d')\n",
    "df['JOB_TIMESTAMP'] = datetime.now()\n",
    "df1['CUSTOMER_NUMBER'] = df1['CUSTOMER_ID']\n",
    "\n",
    "df2 = pd.merge(df, df1, how='left', on='CUSTOMER_NUMBER')\n",
    "\n",
    "df3 = df2[['CUSTOMER_NUMBER', 'CUSTOMER_NAME', 'CUST_DOB', 'SALES_CODE', 'PORTIFOLIO_CODE',\n",
    "           'SEGMENT_DESCRIPTION', 'BUSINESS_UNIT', 'EXTRACT_DATE', 'BRANCH_NAME', 'CUST_STATUS',\n",
    "           'CIF_CREATION', 'PRMRY', 'PREFERREDPHONE', 'PREFERREDEMAIL', 'EMPLOYER_NAME','JOB_DATE','JOB_TIMESTAMP']]"
   ],
   "metadata": {
    "collapsed": false
   }
  },
  {
   "cell_type": "code",
   "execution_count": 47,
   "outputs": [
    {
     "data": {
      "text/plain": "-1"
     },
     "execution_count": 47,
     "metadata": {},
     "output_type": "execute_result"
    }
   ],
   "source": [
    "df.to_sql('CustomerListReport', engine, schema=\"CustomerAccountMasterList\", if_exists='append', index=False)"
   ],
   "metadata": {
    "collapsed": false
   }
  },
  {
   "cell_type": "code",
   "execution_count": null,
   "outputs": [],
   "source": [
    "# df.to_sql('CustomerAccountMasterListReport', engine, schema=\"CustomerAccountMasterList\", if_exists='append', index=False)"
   ],
   "metadata": {
    "collapsed": false
   }
  }
 ],
 "metadata": {
  "kernelspec": {
   "display_name": "Python 3",
   "language": "python",
   "name": "python3"
  },
  "language_info": {
   "codemirror_mode": {
    "name": "ipython",
    "version": 2
   },
   "file_extension": ".py",
   "mimetype": "text/x-python",
   "name": "python",
   "nbconvert_exporter": "python",
   "pygments_lexer": "ipython2",
   "version": "2.7.6"
  }
 },
 "nbformat": 4,
 "nbformat_minor": 0
}
