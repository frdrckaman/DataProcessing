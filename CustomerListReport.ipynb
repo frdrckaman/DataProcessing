{
 "cells": [
  {
   "cell_type": "code",
   "execution_count": 30,
   "metadata": {
    "collapsed": true
   },
   "outputs": [],
   "source": [
    "from sqlalchemy.engine import URL\n",
    "from sqlalchemy import create_engine\n",
    "import pandas as pd\n",
    "from datetime import datetime\n",
    "\n",
    "username='clusterInstaller'\n",
    "password='clusterInstaller'\n",
    "database='RSVRRealtimeFinacleTZ'\n",
    "port='1433'\n",
    "TDS_Version='8.0'\n",
    "# server='localhost\\SQLSERVER2019'\n",
    "server='10.231.33.102'\n",
    "driver='FreeTDS'"
   ]
  },
  {
   "cell_type": "code",
   "execution_count": 31,
   "outputs": [],
   "source": [
    "connection_string = 'DRIVER={ODBC Driver 18 for SQL Server};SERVER='+server+';DATABASE='+database+';ENCRYPT=yes;TrustServerCertificate=Yes;UID='+username+';PWD='+ password\n",
    "connection_url = URL.create(\"mssql+pyodbc\", query={\"odbc_connect\": connection_string})\n",
    "\n",
    "engine = create_engine(connection_url)"
   ],
   "metadata": {
    "collapsed": false
   }
  },
  {
   "cell_type": "code",
   "execution_count": 35,
   "outputs": [
    {
     "data": {
      "text/plain": "  CUSTOMER_NUMBER                    CUSTOMER_NAME   CUST_DOB SALES_CODE  \\\n0     11200007143                    SOOLI LEWIS P 1957-11-06      NOTAP   \n1     11200007144                  LEONARD S NGASA 1954-01-01      NOTAP   \n2     11200007147          AISHA  MOHAMED CHANGALE 1971-11-05      NOTAP   \n3     11200007148  THEOPHILUS AND TABEA S KARUMUNA 1936-12-16       None   \n4     11200007152                MANSUETUS SETONGA 1954-05-28      NOTAP   \n\n  PORTIFOLIO_CODE SEGMENT_DESCRIPTION    BUSINESS_UNIT EXTRACT_DATE  \\\n0            PB05             PRIVATE  AFFLUENT MARKET    24/Jan/23   \n1           UPB06              SILVER      MAIN MARKET    24/Jan/23   \n2            PB05             PRIVATE  AFFLUENT MARKET    24/Jan/23   \n3           UPB06              SILVER      MAIN MARKET    24/Jan/23   \n4            PB05             PRIVATE  AFFLUENT MARKET    24/Jan/23   \n\n     BRANCH_NAME CUST_STATUS  ...  CUSTOMER_ID SEG_CODE SUBSEGMENT_DESC  \\\n0  ARUSHA BRANCH      Active  ...  11200007143      103             PVT   \n1  ARUSHA BRANCH      Active  ...  11200007144      105             SIL   \n2  ARUSHA BRANCH      Active  ...  11200007147      103             PVT   \n3  ARUSHA BRANCH      Active  ...  11200007148      105             SIL   \n4   MOSHI BRANCH      Active  ...  11200007152      103             PVT   \n\n  CIF_CREATION_DATE AVERAGE_CR_AMT NO_OF_TRXNS QUAILTY_IND CA_IND  \\\n0            201307            0.0         3.0          NO    1.0   \n1            201307            0.0         0.0          NO    1.0   \n2            201307     22431655.0        34.0         YES    1.0   \n3            201307            0.0         1.0          NO    1.0   \n4            201307            0.0         0.0          NO    1.0   \n\n  MORE_THAN_2_TRXNS PRMRY  \n0                NO     N  \n1                NO     N  \n2               YES     Y  \n3                NO     N  \n4                NO     N  \n\n[5 rows x 27 columns]",
      "text/html": "<div>\n<style scoped>\n    .dataframe tbody tr th:only-of-type {\n        vertical-align: middle;\n    }\n\n    .dataframe tbody tr th {\n        vertical-align: top;\n    }\n\n    .dataframe thead th {\n        text-align: right;\n    }\n</style>\n<table border=\"1\" class=\"dataframe\">\n  <thead>\n    <tr style=\"text-align: right;\">\n      <th></th>\n      <th>CUSTOMER_NUMBER</th>\n      <th>CUSTOMER_NAME</th>\n      <th>CUST_DOB</th>\n      <th>SALES_CODE</th>\n      <th>PORTIFOLIO_CODE</th>\n      <th>SEGMENT_DESCRIPTION</th>\n      <th>BUSINESS_UNIT</th>\n      <th>EXTRACT_DATE</th>\n      <th>BRANCH_NAME</th>\n      <th>CUST_STATUS</th>\n      <th>...</th>\n      <th>CUSTOMER_ID</th>\n      <th>SEG_CODE</th>\n      <th>SUBSEGMENT_DESC</th>\n      <th>CIF_CREATION_DATE</th>\n      <th>AVERAGE_CR_AMT</th>\n      <th>NO_OF_TRXNS</th>\n      <th>QUAILTY_IND</th>\n      <th>CA_IND</th>\n      <th>MORE_THAN_2_TRXNS</th>\n      <th>PRMRY</th>\n    </tr>\n  </thead>\n  <tbody>\n    <tr>\n      <th>0</th>\n      <td>11200007143</td>\n      <td>SOOLI LEWIS P</td>\n      <td>1957-11-06</td>\n      <td>NOTAP</td>\n      <td>PB05</td>\n      <td>PRIVATE</td>\n      <td>AFFLUENT MARKET</td>\n      <td>24/Jan/23</td>\n      <td>ARUSHA BRANCH</td>\n      <td>Active</td>\n      <td>...</td>\n      <td>11200007143</td>\n      <td>103</td>\n      <td>PVT</td>\n      <td>201307</td>\n      <td>0.0</td>\n      <td>3.0</td>\n      <td>NO</td>\n      <td>1.0</td>\n      <td>NO</td>\n      <td>N</td>\n    </tr>\n    <tr>\n      <th>1</th>\n      <td>11200007144</td>\n      <td>LEONARD S NGASA</td>\n      <td>1954-01-01</td>\n      <td>NOTAP</td>\n      <td>UPB06</td>\n      <td>SILVER</td>\n      <td>MAIN MARKET</td>\n      <td>24/Jan/23</td>\n      <td>ARUSHA BRANCH</td>\n      <td>Active</td>\n      <td>...</td>\n      <td>11200007144</td>\n      <td>105</td>\n      <td>SIL</td>\n      <td>201307</td>\n      <td>0.0</td>\n      <td>0.0</td>\n      <td>NO</td>\n      <td>1.0</td>\n      <td>NO</td>\n      <td>N</td>\n    </tr>\n    <tr>\n      <th>2</th>\n      <td>11200007147</td>\n      <td>AISHA  MOHAMED CHANGALE</td>\n      <td>1971-11-05</td>\n      <td>NOTAP</td>\n      <td>PB05</td>\n      <td>PRIVATE</td>\n      <td>AFFLUENT MARKET</td>\n      <td>24/Jan/23</td>\n      <td>ARUSHA BRANCH</td>\n      <td>Active</td>\n      <td>...</td>\n      <td>11200007147</td>\n      <td>103</td>\n      <td>PVT</td>\n      <td>201307</td>\n      <td>22431655.0</td>\n      <td>34.0</td>\n      <td>YES</td>\n      <td>1.0</td>\n      <td>YES</td>\n      <td>Y</td>\n    </tr>\n    <tr>\n      <th>3</th>\n      <td>11200007148</td>\n      <td>THEOPHILUS AND TABEA S KARUMUNA</td>\n      <td>1936-12-16</td>\n      <td>None</td>\n      <td>UPB06</td>\n      <td>SILVER</td>\n      <td>MAIN MARKET</td>\n      <td>24/Jan/23</td>\n      <td>ARUSHA BRANCH</td>\n      <td>Active</td>\n      <td>...</td>\n      <td>11200007148</td>\n      <td>105</td>\n      <td>SIL</td>\n      <td>201307</td>\n      <td>0.0</td>\n      <td>1.0</td>\n      <td>NO</td>\n      <td>1.0</td>\n      <td>NO</td>\n      <td>N</td>\n    </tr>\n    <tr>\n      <th>4</th>\n      <td>11200007152</td>\n      <td>MANSUETUS SETONGA</td>\n      <td>1954-05-28</td>\n      <td>NOTAP</td>\n      <td>PB05</td>\n      <td>PRIVATE</td>\n      <td>AFFLUENT MARKET</td>\n      <td>24/Jan/23</td>\n      <td>MOSHI BRANCH</td>\n      <td>Active</td>\n      <td>...</td>\n      <td>11200007152</td>\n      <td>103</td>\n      <td>PVT</td>\n      <td>201307</td>\n      <td>0.0</td>\n      <td>0.0</td>\n      <td>NO</td>\n      <td>1.0</td>\n      <td>NO</td>\n      <td>N</td>\n    </tr>\n  </tbody>\n</table>\n<p>5 rows × 27 columns</p>\n</div>"
     },
     "execution_count": 35,
     "metadata": {},
     "output_type": "execute_result"
    }
   ],
   "source": [
    "myQuery = \"SELECT * FROM PTZFIN.vwCuratedTZACustomerListReportStgImpl\"\n",
    "myQuery1 = \"SELECT * FROM PTZFIN.vwCuratedTZACustomerListPrimaryImpl\"\n",
    "\n",
    "df = pd.read_sql_query(myQuery, engine)\n",
    "df1 = pd.read_sql_query(myQuery1, engine)\n",
    "\n",
    "df['job_date'] = datetime.today().strftime('%Y-%m-%d')\n",
    "df['job_timestamp'] = datetime.now()\n",
    "df1['CUSTOMER_NUMBER'] = df1['CUSTOMER_ID']\n",
    "\n",
    "df2 = pd.merge(df, df1, how='left', on='CUSTOMER_NUMBER')\n",
    "\n",
    "# df3 = df2[['', '', '', '', '','', '', '', '', '','', '', '', '', '']]\n",
    "\n",
    "len(df2.index)\n",
    "\n",
    "df2.head()"
   ],
   "metadata": {
    "collapsed": false
   }
  },
  {
   "cell_type": "code",
   "execution_count": null,
   "outputs": [],
   "source": [
    "# df.to_sql('CustomerAccountMasterListReport', engine, schema=\"CustomerAccountMasterList\", if_exists='append', index=False)"
   ],
   "metadata": {
    "collapsed": false
   }
  }
 ],
 "metadata": {
  "kernelspec": {
   "display_name": "Python 3",
   "language": "python",
   "name": "python3"
  },
  "language_info": {
   "codemirror_mode": {
    "name": "ipython",
    "version": 2
   },
   "file_extension": ".py",
   "mimetype": "text/x-python",
   "name": "python",
   "nbconvert_exporter": "python",
   "pygments_lexer": "ipython2",
   "version": "2.7.6"
  }
 },
 "nbformat": 4,
 "nbformat_minor": 0
}
