{
 "cells": [
  {
   "cell_type": "code",
   "execution_count": 30,
   "metadata": {
    "collapsed": true
   },
   "outputs": [],
   "source": [
    "from sqlalchemy.engine import URL\n",
    "from sqlalchemy import create_engine\n",
    "import pandas as pd\n",
    "from datetime import datetime\n",
    "\n",
    "username='clusterInstaller'\n",
    "password='clusterInstaller'\n",
    "database='RSVRRealtimeFinacleTZ'\n",
    "port='1433'\n",
    "TDS_Version='8.0'\n",
    "# server='localhost\\SQLSERVER2019'\n",
    "server='10.231.33.102'\n",
    "driver='FreeTDS'"
   ]
  },
  {
   "cell_type": "code",
   "execution_count": 31,
   "outputs": [],
   "source": [
    "connection_string = 'DRIVER={ODBC Driver 18 for SQL Server};SERVER='+server+';DATABASE='+database+';ENCRYPT=yes;TrustServerCertificate=Yes;UID='+username+';PWD='+ password\n",
    "connection_url = URL.create(\"mssql+pyodbc\", query={\"odbc_connect\": connection_string})\n",
    "\n",
    "engine = create_engine(connection_url)"
   ],
   "metadata": {
    "collapsed": false
   }
  },
  {
   "cell_type": "code",
   "execution_count": 38,
   "outputs": [
    {
     "data": {
      "text/plain": "  CUSTOMER_NUMBER                    CUSTOMER_NAME   CUST_DOB SALES_CODE  \\\n0     11200007143                    SOOLI LEWIS P 1957-11-06      NOTAP   \n1     11200007144                  LEONARD S NGASA 1954-01-01      NOTAP   \n2     11200007147               AISHA ABDULRAHAMAN 1971-11-05      NOTAP   \n3     11200007148  THEOPHILUS AND TABEA S KARUMUNA 1936-12-16       None   \n4     11200007152                MANSUETUS SETONGA 1954-05-28      NOTAP   \n\n  PORTIFOLIO_CODE SEGMENT_DESCRIPTION    BUSINESS_UNIT EXTRACT_DATE  \\\n0            PB05             PRIVATE  AFFLUENT MARKET    24/Jan/23   \n1           UPB06              SILVER      MAIN MARKET    24/Jan/23   \n2            PB05             PRIVATE  AFFLUENT MARKET    24/Jan/23   \n3           UPB06              SILVER      MAIN MARKET    24/Jan/23   \n4            PB05             PRIVATE  AFFLUENT MARKET    24/Jan/23   \n\n     BRANCH_NAME CUST_STATUS        CIF_CREATION PRMRY      PREFERREDPHONE  \\\n0  ARUSHA BRANCH      Active 2013-07-19 23:56:12     N  +255(000)786288882   \n1  ARUSHA BRANCH      Active 2013-07-19 23:56:29     N  +255(000)754743708   \n2  ARUSHA BRANCH      Active 2013-07-19 23:56:11     Y  +255(000)713703065   \n3  ARUSHA BRANCH      Active 2013-07-19 23:56:14     N  +255(000)713291523   \n4   MOSHI BRANCH      Active 2013-07-19 23:56:07     N  +255(000)766147371   \n\n  PREFERREDEMAIL                                  EMPLOYER_NAME    JOB_DATE  \\\n0           None                     ESAMI (EASTERN & SOUTHERN)  2023-01-24   \n1           None  AICC (ARUSHA INTERNATIONAL CONFERENCE CENTRE)  2023-01-24   \n2           None                                  SELF EMPLOYED  2023-01-24   \n3           None                                  SELF EMPLOYED  2023-01-24   \n4           None                                  SELF EMPLOYED  2023-01-24   \n\n               JOB_TIMESTAMP  \n0 2023-01-24 16:37:15.535871  \n1 2023-01-24 16:37:15.535871  \n2 2023-01-24 16:37:15.535871  \n3 2023-01-24 16:37:15.535871  \n4 2023-01-24 16:37:15.535871  ",
      "text/html": "<div>\n<style scoped>\n    .dataframe tbody tr th:only-of-type {\n        vertical-align: middle;\n    }\n\n    .dataframe tbody tr th {\n        vertical-align: top;\n    }\n\n    .dataframe thead th {\n        text-align: right;\n    }\n</style>\n<table border=\"1\" class=\"dataframe\">\n  <thead>\n    <tr style=\"text-align: right;\">\n      <th></th>\n      <th>CUSTOMER_NUMBER</th>\n      <th>CUSTOMER_NAME</th>\n      <th>CUST_DOB</th>\n      <th>SALES_CODE</th>\n      <th>PORTIFOLIO_CODE</th>\n      <th>SEGMENT_DESCRIPTION</th>\n      <th>BUSINESS_UNIT</th>\n      <th>EXTRACT_DATE</th>\n      <th>BRANCH_NAME</th>\n      <th>CUST_STATUS</th>\n      <th>CIF_CREATION</th>\n      <th>PRMRY</th>\n      <th>PREFERREDPHONE</th>\n      <th>PREFERREDEMAIL</th>\n      <th>EMPLOYER_NAME</th>\n      <th>JOB_DATE</th>\n      <th>JOB_TIMESTAMP</th>\n    </tr>\n  </thead>\n  <tbody>\n    <tr>\n      <th>0</th>\n      <td>11200007143</td>\n      <td>SOOLI LEWIS P</td>\n      <td>1957-11-06</td>\n      <td>NOTAP</td>\n      <td>PB05</td>\n      <td>PRIVATE</td>\n      <td>AFFLUENT MARKET</td>\n      <td>24/Jan/23</td>\n      <td>ARUSHA BRANCH</td>\n      <td>Active</td>\n      <td>2013-07-19 23:56:12</td>\n      <td>N</td>\n      <td>+255(000)786288882</td>\n      <td>None</td>\n      <td>ESAMI (EASTERN &amp; SOUTHERN)</td>\n      <td>2023-01-24</td>\n      <td>2023-01-24 16:37:15.535871</td>\n    </tr>\n    <tr>\n      <th>1</th>\n      <td>11200007144</td>\n      <td>LEONARD S NGASA</td>\n      <td>1954-01-01</td>\n      <td>NOTAP</td>\n      <td>UPB06</td>\n      <td>SILVER</td>\n      <td>MAIN MARKET</td>\n      <td>24/Jan/23</td>\n      <td>ARUSHA BRANCH</td>\n      <td>Active</td>\n      <td>2013-07-19 23:56:29</td>\n      <td>N</td>\n      <td>+255(000)754743708</td>\n      <td>None</td>\n      <td>AICC (ARUSHA INTERNATIONAL CONFERENCE CENTRE)</td>\n      <td>2023-01-24</td>\n      <td>2023-01-24 16:37:15.535871</td>\n    </tr>\n    <tr>\n      <th>2</th>\n      <td>11200007147</td>\n      <td>AISHA ABDULRAHAMAN</td>\n      <td>1971-11-05</td>\n      <td>NOTAP</td>\n      <td>PB05</td>\n      <td>PRIVATE</td>\n      <td>AFFLUENT MARKET</td>\n      <td>24/Jan/23</td>\n      <td>ARUSHA BRANCH</td>\n      <td>Active</td>\n      <td>2013-07-19 23:56:11</td>\n      <td>Y</td>\n      <td>+255(000)713703065</td>\n      <td>None</td>\n      <td>SELF EMPLOYED</td>\n      <td>2023-01-24</td>\n      <td>2023-01-24 16:37:15.535871</td>\n    </tr>\n    <tr>\n      <th>3</th>\n      <td>11200007148</td>\n      <td>THEOPHILUS AND TABEA S KARUMUNA</td>\n      <td>1936-12-16</td>\n      <td>None</td>\n      <td>UPB06</td>\n      <td>SILVER</td>\n      <td>MAIN MARKET</td>\n      <td>24/Jan/23</td>\n      <td>ARUSHA BRANCH</td>\n      <td>Active</td>\n      <td>2013-07-19 23:56:14</td>\n      <td>N</td>\n      <td>+255(000)713291523</td>\n      <td>None</td>\n      <td>SELF EMPLOYED</td>\n      <td>2023-01-24</td>\n      <td>2023-01-24 16:37:15.535871</td>\n    </tr>\n    <tr>\n      <th>4</th>\n      <td>11200007152</td>\n      <td>MANSUETUS SETONGA</td>\n      <td>1954-05-28</td>\n      <td>NOTAP</td>\n      <td>PB05</td>\n      <td>PRIVATE</td>\n      <td>AFFLUENT MARKET</td>\n      <td>24/Jan/23</td>\n      <td>MOSHI BRANCH</td>\n      <td>Active</td>\n      <td>2013-07-19 23:56:07</td>\n      <td>N</td>\n      <td>+255(000)766147371</td>\n      <td>None</td>\n      <td>SELF EMPLOYED</td>\n      <td>2023-01-24</td>\n      <td>2023-01-24 16:37:15.535871</td>\n    </tr>\n  </tbody>\n</table>\n</div>"
     },
     "execution_count": 38,
     "metadata": {},
     "output_type": "execute_result"
    }
   ],
   "source": [
    "myQuery = \"SELECT * FROM PTZFIN.vwCuratedTZACustomerListReportStgImpl\"\n",
    "myQuery1 = \"SELECT * FROM PTZFIN.vwCuratedTZACustomerListPrimaryImpl\"\n",
    "\n",
    "df = pd.read_sql_query(myQuery, engine)\n",
    "df1 = pd.read_sql_query(myQuery1, engine)\n",
    "\n",
    "df['JOB_DATE'] = datetime.today().strftime('%Y-%m-%d')\n",
    "df['JOB_TIMESTAMP'] = datetime.now()\n",
    "df1['CUSTOMER_NUMBER'] = df1['CUSTOMER_ID']\n",
    "\n",
    "df2 = pd.merge(df, df1, how='left', on='CUSTOMER_NUMBER')\n",
    "\n",
    "df3 = df2[['CUSTOMER_NUMBER', 'CUSTOMER_NAME', 'CUST_DOB', 'SALES_CODE', 'PORTIFOLIO_CODE',\n",
    "           'SEGMENT_DESCRIPTION', 'BUSINESS_UNIT', 'EXTRACT_DATE', 'BRANCH_NAME', 'CUST_STATUS',\n",
    "           'CIF_CREATION', 'PRMRY', 'PREFERREDPHONE', 'PREFERREDEMAIL', 'EMPLOYER_NAME','JOB_DATE','JOB_TIMESTAMP']]\n",
    "\n",
    "\n",
    "len(df3.index)\n",
    "\n",
    "df3.head()"
   ],
   "metadata": {
    "collapsed": false
   }
  },
  {
   "cell_type": "code",
   "execution_count": null,
   "outputs": [],
   "source": [
    "# df.to_sql('CustomerAccountMasterListReport', engine, schema=\"CustomerAccountMasterList\", if_exists='append', index=False)"
   ],
   "metadata": {
    "collapsed": false
   }
  }
 ],
 "metadata": {
  "kernelspec": {
   "display_name": "Python 3",
   "language": "python",
   "name": "python3"
  },
  "language_info": {
   "codemirror_mode": {
    "name": "ipython",
    "version": 2
   },
   "file_extension": ".py",
   "mimetype": "text/x-python",
   "name": "python",
   "nbconvert_exporter": "python",
   "pygments_lexer": "ipython2",
   "version": "2.7.6"
  }
 },
 "nbformat": 4,
 "nbformat_minor": 0
}
