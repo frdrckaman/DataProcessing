{
 "cells": [
  {
   "cell_type": "code",
   "execution_count": 64,
   "metadata": {
    "collapsed": true
   },
   "outputs": [
    {
     "name": "stdout",
     "output_type": "stream",
     "text": [
      "9120000004810\n",
      "9120000099552\n",
      "9120000043921\n",
      "9120000107512\n",
      "9120001346235\n",
      "9120001365833\n",
      "9120000216702\n",
      "9120001346227\n",
      "9120000255139\n",
      "87706\n"
     ]
    }
   ],
   "source": [
    "import pandas as pd\n",
    "import numpy as np\n",
    "\n",
    "# import data files\n",
    "df1 = pd.DataFrame(pd.read_csv('data/OraMasterList.csv'))\n",
    "df2 = pd.DataFrame(pd.read_csv('data/MasterList.csv'))\n",
    "\n",
    "# df1['ACCOUNT_NUMBER'].equals(df2['account_number'])\n",
    "\n",
    "# print(df1['ACCOUNT_NUMBER'].isin(df2['account_number']))\n",
    "# df2 = df2.rename(columns={\"account_number\": \"ACCOUNT_NUMBER\"})\n",
    "# res = df1.merge(df2, on=[\"ACCOUNT_NUMBER\"], how=\"right\")\n",
    "#\n",
    "# res\n",
    "\n",
    "d2 = df1['ACCOUNT_NUMBER'].tolist()\n",
    "i = 0\n",
    "for d in df2['account_number']:\n",
    "    d1 = int(d)\n",
    "    if d1 in d2:\n",
    "        i = i + 1\n",
    "    else:\n",
    "        print(d1)\n",
    "print(i)\n",
    "\n",
    "\n",
    "\n",
    "# convert ACCOUNT_NUMBER & CUSTOMER_NUMBER to string for both df1 & df2\n",
    "# df1['ACCOUNT_NUMBER'] = df1['ACCOUNT_NUMBER'].apply(str)\n",
    "# df1['CUSTOMER_NUMBER'] = df1['CUSTOMER_NUMBER'].apply(str)\n",
    "#\n",
    "# df2['account_number'] = df2['account_number'].map(str)\n",
    "# df2['CUSTOMER_NUMBER'] = df2['CUSTOMER_NUMBER'].apply(str)\n",
    "\n",
    "# check if column have unique values\n",
    "# df1['ACCOUNT_NUMBER'].is_unique\n",
    "# df2['account_number'].is_unique\n",
    "\n",
    "# list duplicate values on a column\n",
    "# pd.concat(g for _, g in df2.groupby(\"account_number\") if len(g) > 1)\n",
    "\n",
    "\n",
    "# # compare two dataset using index side by side ACCOUNT_NUMBER\n",
    "# df_diff = pd.concat([df1.set_index('ACCOUNT_NUMBER'),df2.set_index('account_number')], axis='columns', keys=['ORACLE', 'SQL-SERVER'])\n",
    "#\n",
    "# # put similar column side by side\n",
    "# df_final = df_diff.swaplevel(axis='columns')[df1.columns[1:]]\n",
    "#\n",
    "# df_final\n",
    "\n",
    "# # highlight the difference\n",
    "# def highlight_diff(data, color='yellow'):\n",
    "#     attr = 'background-color: {}'.format(color)\n",
    "#     other = data.xs('ORACLE', axis='columns', level=-1)\n",
    "#     return pd.DataFrame(np.where(data.ne(other, level=0), attr, ''),\n",
    "#                         index=data.index, columns=data.columns)\n",
    "#\n",
    "# df_final.style.apply(highlight_diff, axis=None)\n",
    "9120000004810"
   ]
  },
  {
   "cell_type": "code",
   "execution_count": 44,
   "outputs": [],
   "source": [
    "import pandas as pd\n",
    "import numpy as np\n",
    "\n",
    "df1 = pd.DataFrame(pd.read_excel('data/cus_1.xlsx'))\n",
    "df2 = pd.DataFrame(pd.read_excel('data/cus_2.xlsx'))\n",
    "df3 = pd.DataFrame(pd.read_excel('data/cus_3.xlsx'))"
   ],
   "metadata": {
    "collapsed": false
   }
  },
  {
   "cell_type": "code",
   "execution_count": 49,
   "outputs": [
    {
     "data": {
      "text/plain": "Empty DataFrame\nColumns: [account_number, CUSTOMER_NUMBER, acct_name, cust_dob, SALES_CODE, portifolio_code, WPB_Flag, segment_description, acct_crncy_code, extract_date, acct_opn_date, last_tran_date, DAYS, branch_name, cal_branch_name, schm_type, SCHM_CODE, acct_status, re_cal_status, CIF_CREATION, manager, emp_name, PHONENO, EMAIL]\nIndex: []\n\n[0 rows x 24 columns]",
      "text/html": "<div>\n<style scoped>\n    .dataframe tbody tr th:only-of-type {\n        vertical-align: middle;\n    }\n\n    .dataframe tbody tr th {\n        vertical-align: top;\n    }\n\n    .dataframe thead th {\n        text-align: right;\n    }\n</style>\n<table border=\"1\" class=\"dataframe\">\n  <thead>\n    <tr style=\"text-align: right;\">\n      <th></th>\n      <th>account_number</th>\n      <th>CUSTOMER_NUMBER</th>\n      <th>acct_name</th>\n      <th>cust_dob</th>\n      <th>SALES_CODE</th>\n      <th>portifolio_code</th>\n      <th>WPB_Flag</th>\n      <th>segment_description</th>\n      <th>acct_crncy_code</th>\n      <th>extract_date</th>\n      <th>...</th>\n      <th>cal_branch_name</th>\n      <th>schm_type</th>\n      <th>SCHM_CODE</th>\n      <th>acct_status</th>\n      <th>re_cal_status</th>\n      <th>CIF_CREATION</th>\n      <th>manager</th>\n      <th>emp_name</th>\n      <th>PHONENO</th>\n      <th>EMAIL</th>\n    </tr>\n  </thead>\n  <tbody>\n  </tbody>\n</table>\n<p>0 rows × 24 columns</p>\n</div>"
     },
     "execution_count": 49,
     "metadata": {},
     "output_type": "execute_result"
    }
   ],
   "source": [
    "df2_1 = df2[['CUSTOMER_ID', 'PRMRY']]\n",
    "\n",
    "# df4 = pd.merge(df1, df2_1, how='left', left_on='CUSTOMER_NUMBER', right_on='CUSTOMER_ID')\n",
    "\n",
    "df4 = df1.merge(df2_1, left_on='CUSTOMER_NUMBER', right_on='CUSTOMER_ID')\n",
    "\n",
    "# df3=df3.groupby(['CUSTOMER_NUMBER']).size().reset_index(name='count')\n",
    "\n",
    "# df3_1.isnull().values.any()\n",
    "\n",
    "# df3['count'] = df3_1['count']\n",
    "#\n",
    "# # df3['count'].astype('int64')\n",
    "#\n",
    "# df3['count'].isnull().values.any()\n",
    "#\n",
    "# # df3.head()\n",
    "#\n",
    "# df3\n",
    "\n",
    "# df5 = df3\n",
    "\n",
    "df3[df3['CUSTOMER_NUMBER'] == '11200000031']\n",
    "\n",
    "\n",
    "# for index, row in df5.iterrows():\n",
    "#     df3.loc[df3['CUSTOMER_NUMBER'] == row[]]\n",
    "#       print(row[\"c1\"], row[\"c2\"])"
   ],
   "metadata": {
    "collapsed": false
   }
  },
  {
   "cell_type": "code",
   "execution_count": 1,
   "outputs": [
    {
     "data": {
      "text/plain": "            CARD_NUMBER      FORACID_x          ACCT_NAME_x ACCT_OPN_DATE_x  \\\n0      4313313000499989  9120002368895      MOHAMED KISENGO      2021-02-05   \n1      4313313000558982  9120001101453          NGOMA,AMIRY      2010-09-07   \n2      4313313000356064  9120002173377       ISMAIL WARIOBA      2020-07-02   \n3      4313323000627067  9120000197295         CHOTEKA ALLY      2004-02-11   \n4      4313313000420977  9120002246757        MARWA SULEMAN      2020-09-08   \n...                 ...            ...                  ...             ...   \n46679  4313311011027419  9120001088597    BERNARD KAGOMBORA      2017-02-06   \n46680  4313313000371865  9120002198493      MAULID M MAULID      2020-07-25   \n46681  4463141011039496  9120002285035  ALEXANDER EVERSBERG      2020-10-20   \n46682  4463141011039488  9120002285035  ALEXANDER EVERSBERG      2020-10-20   \n46683  4313313000508425  9120002340524       GEMA MWAMAKULA      2021-01-04   \n\n                EMBOSS_NAME_x ISSUE_DATE_x VALID_TO_DATE_x  \\\n0             MOHAMED KISENGO   2021-02-05      2026-02-05   \n1                 AMIRY NGOMA   2021-05-05      2026-05-05   \n2              ISMAIL WARIOBA   2020-07-02      2025-07-02   \n3                ALLY CHOTEKA   2017-05-29      2022-05-29   \n4               MARWA SULEMAN   2020-09-08      2025-09-08   \n...                       ...          ...             ...   \n46679  BERNARD PAUL KAGOMBORA   2017-08-31      2022-08-31   \n46680         MAULID M MAULID   2020-07-25      2025-07-25   \n46681         JAMEY EVERSBERG   2020-10-30      2025-10-30   \n46682     ALEXANDER EVERSBERG   2020-10-30      2025-10-30   \n46683          GEMA MWAMAKULA   2021-01-03      2026-01-04   \n\n              LCHG_TIME_x CARD_STATUS_x CARD_SUB_TYPE_x  ... ACCT_OPN_DATE_y  \\\n0     2021-02-05 15:46:37             A            GOLD  ...      2021-02-05   \n1     2022-03-07 17:04:06             D            GOLD  ...      2010-09-07   \n2     2020-07-02 14:35:06             A            GOLD  ...      2020-07-02   \n3     2022-05-02 08:41:41             D            BLUE  ...      2004-02-11   \n4     2021-11-11 16:55:25             A            GOLD  ...      2020-09-08   \n...                   ...           ...             ...  ...             ...   \n46679 2017-09-20 14:12:48             A            GOLD  ...      2017-02-06   \n46680 2020-07-27 15:54:30             A            GOLD  ...      2020-07-25   \n46681 2021-10-27 12:18:30             A           PLATI  ...      2020-10-20   \n46682 2020-11-10 12:38:39             A           PLATI  ...      2020-10-20   \n46683 2021-01-03 21:40:10             A            GOLD  ...      2021-01-04   \n\n                EMBOSS_NAME_y  ISSUE_DATE_y VALID_TO_DATE_y  \\\n0             MOHAMED KISENGO    2021-02-05      2026-02-05   \n1                 AMIRY NGOMA    2021-05-05      2026-05-05   \n2              ISMAIL WARIOBA    2020-07-02      2025-07-02   \n3                ALLY CHOTEKA    2017-05-29      2022-05-29   \n4               MARWA SULEMAN    2020-09-08      2025-09-08   \n...                       ...           ...             ...   \n46679  BERNARD PAUL KAGOMBORA    2017-08-31      2022-08-31   \n46680         MAULID M MAULID    2020-07-25      2025-07-25   \n46681         JAMEY EVERSBERG    2020-10-30      2025-10-30   \n46682     ALEXANDER EVERSBERG    2020-10-30      2025-10-30   \n46683          GEMA MWAMAKULA    2021-01-03      2026-01-04   \n\n              LCHG_TIME_y CARD_STATUS_y CARD_SUB_TYPE_y CARD_TYPE_y  \\\n0     2021-02-05 15:46:37             A            GOLD       VISAB   \n1     2021-05-05 14:02:50             A            GOLD       VISAB   \n2     2020-07-02 14:35:06             A            GOLD       VISAB   \n3     2021-11-18 13:09:54             D            BLUE       VISAB   \n4     2021-11-11 16:55:25             A            GOLD       VISAB   \n...                   ...           ...             ...         ...   \n46679 2017-09-20 14:12:48             A            GOLD       VISAP   \n46680 2020-07-27 15:54:30             A            GOLD       VISAB   \n46681 2021-10-27 12:18:30             A           PLATI       VISAP   \n46682 2020-11-10 12:38:39             A           PLATI       VISAP   \n46683 2021-01-03 21:40:10             A            GOLD       VISAB   \n\n         PHONE_NUM_y _merge  \n0                NaN   both  \n1      +255755045055   both  \n2                NaN   both  \n3      +255784505510   both  \n4                NaN   both  \n...              ...    ...  \n46679  +255768196899   both  \n46680            NaN   both  \n46681  +255765284381   both  \n46682  +255765284381   both  \n46683            NaN   both  \n\n[46684 rows x 24 columns]",
      "text/html": "<div>\n<style scoped>\n    .dataframe tbody tr th:only-of-type {\n        vertical-align: middle;\n    }\n\n    .dataframe tbody tr th {\n        vertical-align: top;\n    }\n\n    .dataframe thead th {\n        text-align: right;\n    }\n</style>\n<table border=\"1\" class=\"dataframe\">\n  <thead>\n    <tr style=\"text-align: right;\">\n      <th></th>\n      <th>CARD_NUMBER</th>\n      <th>FORACID_x</th>\n      <th>ACCT_NAME_x</th>\n      <th>ACCT_OPN_DATE_x</th>\n      <th>EMBOSS_NAME_x</th>\n      <th>ISSUE_DATE_x</th>\n      <th>VALID_TO_DATE_x</th>\n      <th>LCHG_TIME_x</th>\n      <th>CARD_STATUS_x</th>\n      <th>CARD_SUB_TYPE_x</th>\n      <th>...</th>\n      <th>ACCT_OPN_DATE_y</th>\n      <th>EMBOSS_NAME_y</th>\n      <th>ISSUE_DATE_y</th>\n      <th>VALID_TO_DATE_y</th>\n      <th>LCHG_TIME_y</th>\n      <th>CARD_STATUS_y</th>\n      <th>CARD_SUB_TYPE_y</th>\n      <th>CARD_TYPE_y</th>\n      <th>PHONE_NUM_y</th>\n      <th>_merge</th>\n    </tr>\n  </thead>\n  <tbody>\n    <tr>\n      <th>0</th>\n      <td>4313313000499989</td>\n      <td>9120002368895</td>\n      <td>MOHAMED KISENGO</td>\n      <td>2021-02-05</td>\n      <td>MOHAMED KISENGO</td>\n      <td>2021-02-05</td>\n      <td>2026-02-05</td>\n      <td>2021-02-05 15:46:37</td>\n      <td>A</td>\n      <td>GOLD</td>\n      <td>...</td>\n      <td>2021-02-05</td>\n      <td>MOHAMED KISENGO</td>\n      <td>2021-02-05</td>\n      <td>2026-02-05</td>\n      <td>2021-02-05 15:46:37</td>\n      <td>A</td>\n      <td>GOLD</td>\n      <td>VISAB</td>\n      <td>NaN</td>\n      <td>both</td>\n    </tr>\n    <tr>\n      <th>1</th>\n      <td>4313313000558982</td>\n      <td>9120001101453</td>\n      <td>NGOMA,AMIRY</td>\n      <td>2010-09-07</td>\n      <td>AMIRY NGOMA</td>\n      <td>2021-05-05</td>\n      <td>2026-05-05</td>\n      <td>2022-03-07 17:04:06</td>\n      <td>D</td>\n      <td>GOLD</td>\n      <td>...</td>\n      <td>2010-09-07</td>\n      <td>AMIRY NGOMA</td>\n      <td>2021-05-05</td>\n      <td>2026-05-05</td>\n      <td>2021-05-05 14:02:50</td>\n      <td>A</td>\n      <td>GOLD</td>\n      <td>VISAB</td>\n      <td>+255755045055</td>\n      <td>both</td>\n    </tr>\n    <tr>\n      <th>2</th>\n      <td>4313313000356064</td>\n      <td>9120002173377</td>\n      <td>ISMAIL WARIOBA</td>\n      <td>2020-07-02</td>\n      <td>ISMAIL WARIOBA</td>\n      <td>2020-07-02</td>\n      <td>2025-07-02</td>\n      <td>2020-07-02 14:35:06</td>\n      <td>A</td>\n      <td>GOLD</td>\n      <td>...</td>\n      <td>2020-07-02</td>\n      <td>ISMAIL WARIOBA</td>\n      <td>2020-07-02</td>\n      <td>2025-07-02</td>\n      <td>2020-07-02 14:35:06</td>\n      <td>A</td>\n      <td>GOLD</td>\n      <td>VISAB</td>\n      <td>NaN</td>\n      <td>both</td>\n    </tr>\n    <tr>\n      <th>3</th>\n      <td>4313323000627067</td>\n      <td>9120000197295</td>\n      <td>CHOTEKA ALLY</td>\n      <td>2004-02-11</td>\n      <td>ALLY CHOTEKA</td>\n      <td>2017-05-29</td>\n      <td>2022-05-29</td>\n      <td>2022-05-02 08:41:41</td>\n      <td>D</td>\n      <td>BLUE</td>\n      <td>...</td>\n      <td>2004-02-11</td>\n      <td>ALLY CHOTEKA</td>\n      <td>2017-05-29</td>\n      <td>2022-05-29</td>\n      <td>2021-11-18 13:09:54</td>\n      <td>D</td>\n      <td>BLUE</td>\n      <td>VISAB</td>\n      <td>+255784505510</td>\n      <td>both</td>\n    </tr>\n    <tr>\n      <th>4</th>\n      <td>4313313000420977</td>\n      <td>9120002246757</td>\n      <td>MARWA SULEMAN</td>\n      <td>2020-09-08</td>\n      <td>MARWA SULEMAN</td>\n      <td>2020-09-08</td>\n      <td>2025-09-08</td>\n      <td>2021-11-11 16:55:25</td>\n      <td>A</td>\n      <td>GOLD</td>\n      <td>...</td>\n      <td>2020-09-08</td>\n      <td>MARWA SULEMAN</td>\n      <td>2020-09-08</td>\n      <td>2025-09-08</td>\n      <td>2021-11-11 16:55:25</td>\n      <td>A</td>\n      <td>GOLD</td>\n      <td>VISAB</td>\n      <td>NaN</td>\n      <td>both</td>\n    </tr>\n    <tr>\n      <th>...</th>\n      <td>...</td>\n      <td>...</td>\n      <td>...</td>\n      <td>...</td>\n      <td>...</td>\n      <td>...</td>\n      <td>...</td>\n      <td>...</td>\n      <td>...</td>\n      <td>...</td>\n      <td>...</td>\n      <td>...</td>\n      <td>...</td>\n      <td>...</td>\n      <td>...</td>\n      <td>...</td>\n      <td>...</td>\n      <td>...</td>\n      <td>...</td>\n      <td>...</td>\n      <td>...</td>\n    </tr>\n    <tr>\n      <th>46679</th>\n      <td>4313311011027419</td>\n      <td>9120001088597</td>\n      <td>BERNARD KAGOMBORA</td>\n      <td>2017-02-06</td>\n      <td>BERNARD PAUL KAGOMBORA</td>\n      <td>2017-08-31</td>\n      <td>2022-08-31</td>\n      <td>2017-09-20 14:12:48</td>\n      <td>A</td>\n      <td>GOLD</td>\n      <td>...</td>\n      <td>2017-02-06</td>\n      <td>BERNARD PAUL KAGOMBORA</td>\n      <td>2017-08-31</td>\n      <td>2022-08-31</td>\n      <td>2017-09-20 14:12:48</td>\n      <td>A</td>\n      <td>GOLD</td>\n      <td>VISAP</td>\n      <td>+255768196899</td>\n      <td>both</td>\n    </tr>\n    <tr>\n      <th>46680</th>\n      <td>4313313000371865</td>\n      <td>9120002198493</td>\n      <td>MAULID M MAULID</td>\n      <td>2020-07-25</td>\n      <td>MAULID M MAULID</td>\n      <td>2020-07-25</td>\n      <td>2025-07-25</td>\n      <td>2020-07-27 15:54:30</td>\n      <td>A</td>\n      <td>GOLD</td>\n      <td>...</td>\n      <td>2020-07-25</td>\n      <td>MAULID M MAULID</td>\n      <td>2020-07-25</td>\n      <td>2025-07-25</td>\n      <td>2020-07-27 15:54:30</td>\n      <td>A</td>\n      <td>GOLD</td>\n      <td>VISAB</td>\n      <td>NaN</td>\n      <td>both</td>\n    </tr>\n    <tr>\n      <th>46681</th>\n      <td>4463141011039496</td>\n      <td>9120002285035</td>\n      <td>ALEXANDER EVERSBERG</td>\n      <td>2020-10-20</td>\n      <td>JAMEY EVERSBERG</td>\n      <td>2020-10-30</td>\n      <td>2025-10-30</td>\n      <td>2021-10-27 12:18:30</td>\n      <td>A</td>\n      <td>PLATI</td>\n      <td>...</td>\n      <td>2020-10-20</td>\n      <td>JAMEY EVERSBERG</td>\n      <td>2020-10-30</td>\n      <td>2025-10-30</td>\n      <td>2021-10-27 12:18:30</td>\n      <td>A</td>\n      <td>PLATI</td>\n      <td>VISAP</td>\n      <td>+255765284381</td>\n      <td>both</td>\n    </tr>\n    <tr>\n      <th>46682</th>\n      <td>4463141011039488</td>\n      <td>9120002285035</td>\n      <td>ALEXANDER EVERSBERG</td>\n      <td>2020-10-20</td>\n      <td>ALEXANDER EVERSBERG</td>\n      <td>2020-10-30</td>\n      <td>2025-10-30</td>\n      <td>2020-11-10 12:38:39</td>\n      <td>A</td>\n      <td>PLATI</td>\n      <td>...</td>\n      <td>2020-10-20</td>\n      <td>ALEXANDER EVERSBERG</td>\n      <td>2020-10-30</td>\n      <td>2025-10-30</td>\n      <td>2020-11-10 12:38:39</td>\n      <td>A</td>\n      <td>PLATI</td>\n      <td>VISAP</td>\n      <td>+255765284381</td>\n      <td>both</td>\n    </tr>\n    <tr>\n      <th>46683</th>\n      <td>4313313000508425</td>\n      <td>9120002340524</td>\n      <td>GEMA MWAMAKULA</td>\n      <td>2021-01-04</td>\n      <td>GEMA MWAMAKULA</td>\n      <td>2021-01-03</td>\n      <td>2026-01-04</td>\n      <td>2021-01-03 21:40:10</td>\n      <td>A</td>\n      <td>GOLD</td>\n      <td>...</td>\n      <td>2021-01-04</td>\n      <td>GEMA MWAMAKULA</td>\n      <td>2021-01-03</td>\n      <td>2026-01-04</td>\n      <td>2021-01-03 21:40:10</td>\n      <td>A</td>\n      <td>GOLD</td>\n      <td>VISAB</td>\n      <td>NaN</td>\n      <td>both</td>\n    </tr>\n  </tbody>\n</table>\n<p>46684 rows × 24 columns</p>\n</div>"
     },
     "execution_count": 1,
     "metadata": {},
     "output_type": "execute_result"
    }
   ],
   "source": [
    "# check values that both merge and not merge between 2 dataset\n",
    "import pandas as pd\n",
    "\n",
    "df2 = pd.DataFrame(pd.read_excel('data/R1.xlsx'))\n",
    "df1 = pd.DataFrame(pd.read_excel('data/L1.xlsx'))\n",
    "\n",
    "# df1.head()\n",
    "\n",
    "# df1 = pd.DataFrame(pd.read_excel('data/ods.xlsx'))\n",
    "# df2 = pd.DataFrame(pd.read_excel('data/rsvr.xlsx'))\n",
    "\n",
    "df_all = df1.merge(df2.drop_duplicates(), on=['CARD_NUMBER','CARD_NUMBER'],\n",
    "                   how='left', indicator=True)\n",
    "\n",
    "df_all"
   ],
   "metadata": {
    "collapsed": false
   }
  },
  {
   "cell_type": "code",
   "execution_count": 1,
   "outputs": [
    {
     "name": "stdout",
     "output_type": "stream",
     "text": [
      "['card_status', 'I', 'A', 'last_oprn_done', 'A', 'S', '']\n"
     ]
    }
   ],
   "source": [
    "status = 'card_status|I|A|last_oprn_done|A|S|'\n",
    "\n",
    "list_data = status.split('|')\n",
    "\n"
   ],
   "metadata": {
    "collapsed": false
   }
  },
  {
   "cell_type": "code",
   "execution_count": 2,
   "outputs": [
    {
     "data": {
      "text/plain": "  Reporting date & time  Account number               Account name  \\\n0            2023-03-13           13800  Central Bank:Free Balance   \n1            2023-03-13           13800  Central Bank:Free Balance   \n2            2023-03-13           13800  Central Bank:Free Balance   \n3            2023-03-13           13800  Central Bank:Free Balance   \n4            2023-03-13           13800  Central Bank:Free Balance   \n\n  Account type Sub-Account type Currency  Original Amount  \\\n0      Current          Current      EUR     0.000000e+00   \n1      Current          Current      KES     1.634972e+07   \n2      Current          Current      TZS     4.970977e+10   \n3      Current          Current      UGX     1.974799e+08   \n4      Current          Current      USD     1.028300e+07   \n\n   USD Equivalent Amount    TZS Amount Transaction Date Maturity Date  \\\n0           0.000000e+00  0.000000e+00       2023-03-13    2023-03-13   \n1           1.231819e+05  2.882456e+08       2023-03-13    2023-03-13   \n2           2.124349e+07  4.970977e+10       2023-03-13    2023-03-13   \n3           5.317776e+04  1.244360e+08       2023-03-13    2023-03-13   \n4           1.028300e+07  2.406222e+10       2023-03-13    2023-03-13   \n\n   Allowance for probable loss  BOT provision  Related Identification  \n0                            0              0                     NaN  \n1                            0              0                     NaN  \n2                            0              0                     NaN  \n3                            0              0                     NaN  \n4                            0              0                     NaN  ",
      "text/html": "<div>\n<style scoped>\n    .dataframe tbody tr th:only-of-type {\n        vertical-align: middle;\n    }\n\n    .dataframe tbody tr th {\n        vertical-align: top;\n    }\n\n    .dataframe thead th {\n        text-align: right;\n    }\n</style>\n<table border=\"1\" class=\"dataframe\">\n  <thead>\n    <tr style=\"text-align: right;\">\n      <th></th>\n      <th>Reporting date &amp; time</th>\n      <th>Account number</th>\n      <th>Account name</th>\n      <th>Account type</th>\n      <th>Sub-Account type</th>\n      <th>Currency</th>\n      <th>Original Amount</th>\n      <th>USD Equivalent Amount</th>\n      <th>TZS Amount</th>\n      <th>Transaction Date</th>\n      <th>Maturity Date</th>\n      <th>Allowance for probable loss</th>\n      <th>BOT provision</th>\n      <th>Related Identification</th>\n    </tr>\n  </thead>\n  <tbody>\n    <tr>\n      <th>0</th>\n      <td>2023-03-13</td>\n      <td>13800</td>\n      <td>Central Bank:Free Balance</td>\n      <td>Current</td>\n      <td>Current</td>\n      <td>EUR</td>\n      <td>0.000000e+00</td>\n      <td>0.000000e+00</td>\n      <td>0.000000e+00</td>\n      <td>2023-03-13</td>\n      <td>2023-03-13</td>\n      <td>0</td>\n      <td>0</td>\n      <td>NaN</td>\n    </tr>\n    <tr>\n      <th>1</th>\n      <td>2023-03-13</td>\n      <td>13800</td>\n      <td>Central Bank:Free Balance</td>\n      <td>Current</td>\n      <td>Current</td>\n      <td>KES</td>\n      <td>1.634972e+07</td>\n      <td>1.231819e+05</td>\n      <td>2.882456e+08</td>\n      <td>2023-03-13</td>\n      <td>2023-03-13</td>\n      <td>0</td>\n      <td>0</td>\n      <td>NaN</td>\n    </tr>\n    <tr>\n      <th>2</th>\n      <td>2023-03-13</td>\n      <td>13800</td>\n      <td>Central Bank:Free Balance</td>\n      <td>Current</td>\n      <td>Current</td>\n      <td>TZS</td>\n      <td>4.970977e+10</td>\n      <td>2.124349e+07</td>\n      <td>4.970977e+10</td>\n      <td>2023-03-13</td>\n      <td>2023-03-13</td>\n      <td>0</td>\n      <td>0</td>\n      <td>NaN</td>\n    </tr>\n    <tr>\n      <th>3</th>\n      <td>2023-03-13</td>\n      <td>13800</td>\n      <td>Central Bank:Free Balance</td>\n      <td>Current</td>\n      <td>Current</td>\n      <td>UGX</td>\n      <td>1.974799e+08</td>\n      <td>5.317776e+04</td>\n      <td>1.244360e+08</td>\n      <td>2023-03-13</td>\n      <td>2023-03-13</td>\n      <td>0</td>\n      <td>0</td>\n      <td>NaN</td>\n    </tr>\n    <tr>\n      <th>4</th>\n      <td>2023-03-13</td>\n      <td>13800</td>\n      <td>Central Bank:Free Balance</td>\n      <td>Current</td>\n      <td>Current</td>\n      <td>USD</td>\n      <td>1.028300e+07</td>\n      <td>1.028300e+07</td>\n      <td>2.406222e+10</td>\n      <td>2023-03-13</td>\n      <td>2023-03-13</td>\n      <td>0</td>\n      <td>0</td>\n      <td>NaN</td>\n    </tr>\n  </tbody>\n</table>\n</div>"
     },
     "execution_count": 2,
     "metadata": {},
     "output_type": "execute_result"
    }
   ],
   "source": [
    "import pandas as pd\n",
    "\n",
    "xls = pd.ExcelFile('data/bot.xlsx')\n",
    "df = pd.DataFrame(pd.read_excel(xls, 'Balance with BOT'))\n",
    "\n",
    "df.head()"
   ],
   "metadata": {
    "collapsed": false
   }
  },
  {
   "cell_type": "code",
   "execution_count": 24,
   "outputs": [
    {
     "data": {
      "text/plain": "0            Adaptiva\n1               Azure\n2          Cloudamize\n3       Configuration\n4            Endpoint\n            ...      \n2501          Veritas\n2502          Kyocera\n2503          Kyocera\n2504        Microsoft\n2505         Java(TM)\nName: ProductName, Length: 2506, dtype: object"
     },
     "execution_count": 24,
     "metadata": {},
     "output_type": "execute_result"
    }
   ],
   "source": [
    "import pandas as pd\n",
    "\n",
    "df1 = pd.DataFrame(pd.read_excel('data/gps.xlsx'))\n",
    "df2 = pd.DataFrame(pd.read_excel('data/tzs.xlsx'))\n",
    "# df3 = pd.DataFrame(pd.read_excel('data/sws.xlsx'))\n",
    "\n",
    "df11 = df1.ProductName.str.split().str.get(0)\n",
    "df22 = df2.ProductName.str.split().str.get(0)\n",
    "# df33 = df3.name.str.split().str.get(0)\n",
    "\n",
    "df22\n",
    "# df11 = df11.to_frame().reset_index()\n",
    "# df22 = df22.to_frame().reset_index()\n",
    "#\n",
    "# df11.head()\n",
    "\n",
    "# len(df33.index)\n",
    "# df33\n",
    "\n",
    "# df22.merge(df11.drop_duplicates(), on=['ProductName','ProductName'],\n",
    "#           how='left', indicator=True)"
   ],
   "metadata": {
    "collapsed": false,
    "ExecuteTime": {
     "start_time": "2023-04-10T14:21:49.136414Z",
     "end_time": "2023-04-10T14:21:49.237622Z"
    }
   }
  },
  {
   "cell_type": "code",
   "execution_count": 1,
   "outputs": [
    {
     "data": {
      "text/plain": "  ProductName\n0      Secure\n1        .Net\n2   AssureNET\n3  BeyondSAAS\n4         VSX",
      "text/html": "<div>\n<style scoped>\n    .dataframe tbody tr th:only-of-type {\n        vertical-align: middle;\n    }\n\n    .dataframe tbody tr th {\n        vertical-align: top;\n    }\n\n    .dataframe thead th {\n        text-align: right;\n    }\n</style>\n<table border=\"1\" class=\"dataframe\">\n  <thead>\n    <tr style=\"text-align: right;\">\n      <th></th>\n      <th>ProductName</th>\n    </tr>\n  </thead>\n  <tbody>\n    <tr>\n      <th>0</th>\n      <td>Secure</td>\n    </tr>\n    <tr>\n      <th>1</th>\n      <td>.Net</td>\n    </tr>\n    <tr>\n      <th>2</th>\n      <td>AssureNET</td>\n    </tr>\n    <tr>\n      <th>3</th>\n      <td>BeyondSAAS</td>\n    </tr>\n    <tr>\n      <th>4</th>\n      <td>VSX</td>\n    </tr>\n  </tbody>\n</table>\n</div>"
     },
     "execution_count": 1,
     "metadata": {},
     "output_type": "execute_result"
    }
   ],
   "source": [
    "import pandas as pd\n",
    "\n",
    "df1 = pd.DataFrame(pd.read_excel('data/gps1.xlsx'))\n",
    "df2 = pd.DataFrame(pd.read_excel('data/tzs1.xlsx'))\n",
    "\n",
    "df1.head()\n",
    "#\n",
    "# len(df1.index)\n",
    "\n",
    "# df1['ProductName'].isin(df2['ProductName']).value_counts()\n",
    "# df2.merge(df1.drop_duplicates(), on=['ProductName','ProductName'],\n",
    "#            how='left', indicator=True)\n",
    "\n",
    "# df3"
   ],
   "metadata": {
    "collapsed": false,
    "ExecuteTime": {
     "start_time": "2023-05-12T02:44:29.902192Z",
     "end_time": "2023-05-12T02:44:30.450055Z"
    }
   }
  },
  {
   "cell_type": "code",
   "execution_count": 4,
   "outputs": [],
   "source": [
    "import os\n",
    "import gzip\n",
    "import logging.handlers\n",
    "\n",
    "class NewRotatingFileHandler(logging.handlers.RotatingFileHandler):\n",
    "    def __init__(self, filename, **kws):\n",
    "        backupCount = kws.get('backupCount', 0)\n",
    "        self.backup_count = backupCount\n",
    "        logging.handlers.RotatingFileHandler.__init__(self, filename, **kws)\n",
    "\n",
    "    def doArchive(self, old_log):\n",
    "        with open(old_log) as log:\n",
    "            with gzip.open(old_log + '.gz', 'wb') as comp_log:\n",
    "                comp_log.writelines(log)\n",
    "        os.remove(old_log)\n",
    "\n",
    "    def doRollover(self):\n",
    "        if self.stream:\n",
    "            self.stream.close()\n",
    "            self.stream = None\n",
    "        if self.backup_count > 0:\n",
    "            for i in range(self.backup_count - 1, 0, -1):\n",
    "                sfn = \"%s.%d.gz\" % (self.baseFilename, i)\n",
    "                dfn = \"%s.%d.gz\" % (self.baseFilename, i + 1)\n",
    "                if os.path.exists(sfn):\n",
    "                    if os.path.exists(dfn):\n",
    "                        os.remove(dfn)\n",
    "                    os.rename(sfn, dfn)\n",
    "        dfn = self.baseFilename + \".1\"\n",
    "        if os.path.exists(dfn):\n",
    "            os.remove(dfn)\n",
    "        if os.path.exists(self.baseFilename):\n",
    "            os.rename(self.baseFilename, dfn)\n",
    "            self.doArchive(dfn)\n",
    "        if not self.delay:\n",
    "            self.stream = self._open()"
   ],
   "metadata": {
    "collapsed": false,
    "ExecuteTime": {
     "start_time": "2023-05-23T04:26:23.777047Z",
     "end_time": "2023-05-23T04:26:23.780165Z"
    }
   }
  },
  {
   "cell_type": "code",
   "execution_count": 3,
   "outputs": [],
   "source": [
    "import logging\n",
    "import logging.config\n",
    "\n",
    "logging.basicConfig(filename = 'file.log',\n",
    "                    level = logging.WARNING,\n",
    "                    format = '%(asctime)s:%(levelname)s:%(name)s:%(message)s')\n",
    "\n",
    "# 'application' code\n",
    "logging.debug('debug message')\n",
    "logging.info('info message')\n",
    "logging.warning('warn message')\n",
    "logging.error('error message')\n",
    "logging.critical('critical message')"
   ],
   "metadata": {
    "collapsed": false,
    "ExecuteTime": {
     "start_time": "2023-05-23T04:25:45.410616Z",
     "end_time": "2023-05-23T04:25:45.428307Z"
    }
   }
  },
  {
   "cell_type": "code",
   "execution_count": null,
   "outputs": [],
   "source": [
    "import pandas as pd\n",
    "\n",
    "df = pd.DataFrame(pd.read_excel('data/dboCustomers.xlsx'))\n",
    "df['SourceID'] = '1'\n",
    "df['UniqueID'] = (df['SourceID']+df['CustomerID']).to_string\n",
    "\n",
    "df1 = df[['CustomerID','LastName','FirstName','PhoneNumber','CreatedDate','UpdatedDate','SourceID','UniqueID']]\n",
    "\n",
    "df1.convert_dtypes().dtypes#%%\n",
    "import pandas as pd\n",
    "import numpy as np\n",
    "\n",
    "# import data files\n",
    "df1 = pd.DataFrame(pd.read_csv('data/OraMasterList.csv'))\n",
    "df2 = pd.DataFrame(pd.read_csv('data/MasterList.csv'))\n",
    "\n",
    "# df1['ACCOUNT_NUMBER'].equals(df2['account_number'])\n",
    "\n",
    "# print(df1['ACCOUNT_NUMBER'].isin(df2['account_number']))\n",
    "# df2 = df2.rename(columns={\"account_number\": \"ACCOUNT_NUMBER\"})\n",
    "# res = df1.merge(df2, on=[\"ACCOUNT_NUMBER\"], how=\"right\")\n",
    "#\n",
    "# res\n",
    "\n",
    "d2 = df1['ACCOUNT_NUMBER'].tolist()\n",
    "i = 0\n",
    "for d in df2['account_number']:\n",
    "    d1 = int(d)\n",
    "    if d1 in d2:\n",
    "        i = i + 1\n",
    "    else:\n",
    "        print(d1)\n",
    "print(i)\n",
    "\n",
    "\n",
    "\n",
    "# convert ACCOUNT_NUMBER & CUSTOMER_NUMBER to string for both df1 & df2\n",
    "# df1['ACCOUNT_NUMBER'] = df1['ACCOUNT_NUMBER'].apply(str)\n",
    "# df1['CUSTOMER_NUMBER'] = df1['CUSTOMER_NUMBER'].apply(str)\n",
    "#\n",
    "# df2['account_number'] = df2['account_number'].map(str)\n",
    "# df2['CUSTOMER_NUMBER'] = df2['CUSTOMER_NUMBER'].apply(str)\n",
    "\n",
    "# check if column have unique values\n",
    "# df1['ACCOUNT_NUMBER'].is_unique\n",
    "# df2['account_number'].is_unique\n",
    "\n",
    "# list duplicate values on a column\n",
    "# pd.concat(g for _, g in df2.groupby(\"account_number\") if len(g) > 1)\n",
    "\n",
    "\n",
    "# # compare two dataset using index side by side ACCOUNT_NUMBER\n",
    "# df_diff = pd.concat([df1.set_index('ACCOUNT_NUMBER'),df2.set_index('account_number')], axis='columns', keys=['ORACLE', 'SQL-SERVER'])\n",
    "#\n",
    "# # put similar column side by side\n",
    "# df_final = df_diff.swaplevel(axis='columns')[df1.columns[1:]]\n",
    "#\n",
    "# df_final\n",
    "\n",
    "# # highlight the difference\n",
    "# def highlight_diff(data, color='yellow'):\n",
    "#     attr = 'background-color: {}'.format(color)\n",
    "#     other = data.xs('ORACLE', axis='columns', level=-1)\n",
    "#     return pd.DataFrame(np.where(data.ne(other, level=0), attr, ''),\n",
    "#                         index=data.index, columns=data.columns)\n",
    "#\n",
    "# df_final.style.apply(highlight_diff, axis=None)\n",
    "9120000004810"
   ],
   "metadata": {
    "collapsed": false
   }
  },
  {
   "cell_type": "code",
   "execution_count": null,
   "outputs": [],
   "source": [
    "import pandas as pd\n",
    "import numpy as np\n",
    "\n",
    "df1 = pd.DataFrame(pd.read_excel('data/cus_1.xlsx'))\n",
    "df2 = pd.DataFrame(pd.read_excel('data/cus_2.xlsx'))\n",
    "df3 = pd.DataFrame(pd.read_excel('data/cus_3.xlsx'))"
   ],
   "metadata": {
    "collapsed": false
   }
  },
  {
   "cell_type": "code",
   "execution_count": null,
   "outputs": [],
   "source": [
    "df2_1 = df2[['CUSTOMER_ID', 'PRMRY']]\n",
    "\n",
    "# df4 = pd.merge(df1, df2_1, how='left', left_on='CUSTOMER_NUMBER', right_on='CUSTOMER_ID')\n",
    "\n",
    "df4 = df1.merge(df2_1, left_on='CUSTOMER_NUMBER', right_on='CUSTOMER_ID')\n",
    "\n",
    "# df3=df3.groupby(['CUSTOMER_NUMBER']).size().reset_index(name='count')\n",
    "\n",
    "# df3_1.isnull().values.any()\n",
    "\n",
    "# df3['count'] = df3_1['count']\n",
    "#\n",
    "# # df3['count'].astype('int64')\n",
    "#\n",
    "# df3['count'].isnull().values.any()\n",
    "#\n",
    "# # df3.head()\n",
    "#\n",
    "# df3\n",
    "\n",
    "# df5 = df3\n",
    "\n",
    "df3[df3['CUSTOMER_NUMBER'] == '11200000031']\n",
    "\n",
    "\n",
    "# for index, row in df5.iterrows():\n",
    "#     df3.loc[df3['CUSTOMER_NUMBER'] == row[]]\n",
    "#       print(row[\"c1\"], row[\"c2\"])"
   ],
   "metadata": {
    "collapsed": false
   }
  },
  {
   "cell_type": "code",
   "execution_count": null,
   "outputs": [],
   "source": [
    "# check values that both merge and not merge between 2 dataset\n",
    "import pandas as pd\n",
    "\n",
    "df2 = pd.DataFrame(pd.read_excel('data/R1.xlsx'))\n",
    "df1 = pd.DataFrame(pd.read_excel('data/L1.xlsx'))\n",
    "\n",
    "# df1.head()\n",
    "\n",
    "# df1 = pd.DataFrame(pd.read_excel('data/ods.xlsx'))\n",
    "# df2 = pd.DataFrame(pd.read_excel('data/rsvr.xlsx'))\n",
    "\n",
    "df_all = df1.merge(df2.drop_duplicates(), on=['CARD_NUMBER','CARD_NUMBER'],\n",
    "                   how='left', indicator=True)\n",
    "\n",
    "df_all"
   ],
   "metadata": {
    "collapsed": false
   }
  },
  {
   "cell_type": "code",
   "execution_count": null,
   "outputs": [],
   "source": [
    "status = 'card_status|I|A|last_oprn_done|A|S|'\n",
    "\n",
    "list_data = status.split('|')\n",
    "\n"
   ],
   "metadata": {
    "collapsed": false
   }
  },
  {
   "cell_type": "code",
   "execution_count": null,
   "outputs": [],
   "source": [
    "import pandas as pd\n",
    "\n",
    "xls = pd.ExcelFile('data/bot.xlsx')\n",
    "df = pd.DataFrame(pd.read_excel(xls, 'Balance with BOT'))\n",
    "\n",
    "df.head()"
   ],
   "metadata": {
    "collapsed": false
   }
  },
  {
   "cell_type": "code",
   "execution_count": null,
   "outputs": [],
   "source": [
    "import pandas as pd\n",
    "\n",
    "df1 = pd.DataFrame(pd.read_excel('data/gps.xlsx'))\n",
    "df2 = pd.DataFrame(pd.read_excel('data/tzs.xlsx'))\n",
    "# df3 = pd.DataFrame(pd.read_excel('data/sws.xlsx'))\n",
    "\n",
    "df11 = df1.ProductName.str.split().str.get(0)\n",
    "df22 = df2.ProductName.str.split().str.get(0)\n",
    "# df33 = df3.name.str.split().str.get(0)\n",
    "\n",
    "df22\n",
    "# df11 = df11.to_frame().reset_index()\n",
    "# df22 = df22.to_frame().reset_index()\n",
    "#\n",
    "# df11.head()\n",
    "\n",
    "# len(df33.index)\n",
    "# df33\n",
    "\n",
    "# df22.merge(df11.drop_duplicates(), on=['ProductName','ProductName'],\n",
    "#           how='left', indicator=True)"
   ],
   "metadata": {
    "collapsed": false
   }
  },
  {
   "cell_type": "code",
   "execution_count": null,
   "outputs": [],
   "source": [
    "import pandas as pd\n",
    "\n",
    "df1 = pd.DataFrame(pd.read_excel('data/gps1.xlsx'))\n",
    "df2 = pd.DataFrame(pd.read_excel('data/tzs1.xlsx'))\n",
    "\n",
    "df1.head()\n",
    "#\n",
    "# len(df1.index)\n",
    "\n",
    "# df1['ProductName'].isin(df2['ProductName']).value_counts()\n",
    "# df2.merge(df1.drop_duplicates(), on=['ProductName','ProductName'],\n",
    "#            how='left', indicator=True)\n",
    "\n",
    "# df3"
   ],
   "metadata": {
    "collapsed": false
   }
  },
  {
   "cell_type": "code",
   "execution_count": null,
   "outputs": [],
   "source": [
    "import os\n",
    "import gzip\n",
    "import logging.handlers\n",
    "\n",
    "class NewRotatingFileHandler(logging.handlers.RotatingFileHandler):\n",
    "    def __init__(self, filename, **kws):\n",
    "        backupCount = kws.get('backupCount', 0)\n",
    "        self.backup_count = backupCount\n",
    "        logging.handlers.RotatingFileHandler.__init__(self, filename, **kws)\n",
    "\n",
    "    def doArchive(self, old_log):\n",
    "        with open(old_log) as log:\n",
    "            with gzip.open(old_log + '.gz', 'wb') as comp_log:\n",
    "                comp_log.writelines(log)\n",
    "        os.remove(old_log)\n",
    "\n",
    "    def doRollover(self):\n",
    "        if self.stream:\n",
    "            self.stream.close()\n",
    "            self.stream = None\n",
    "        if self.backup_count > 0:\n",
    "            for i in range(self.backup_count - 1, 0, -1):\n",
    "                sfn = \"%s.%d.gz\" % (self.baseFilename, i)\n",
    "                dfn = \"%s.%d.gz\" % (self.baseFilename, i + 1)\n",
    "                if os.path.exists(sfn):\n",
    "                    if os.path.exists(dfn):\n",
    "                        os.remove(dfn)\n",
    "                    os.rename(sfn, dfn)\n",
    "        dfn = self.baseFilename + \".1\"\n",
    "        if os.path.exists(dfn):\n",
    "            os.remove(dfn)\n",
    "        if os.path.exists(self.baseFilename):\n",
    "            os.rename(self.baseFilename, dfn)\n",
    "            self.doArchive(dfn)\n",
    "        if not self.delay:\n",
    "            self.stream = self._open()"
   ],
   "metadata": {
    "collapsed": false
   }
  },
  {
   "cell_type": "code",
   "execution_count": null,
   "outputs": [],
   "source": [
    "import logging\n",
    "import logging.config\n",
    "\n",
    "logging.basicConfig(filename = 'file.log',\n",
    "                    level = logging.WARNING,\n",
    "                    format = '%(asctime)s:%(levelname)s:%(name)s:%(message)s')\n",
    "\n",
    "# 'application' code\n",
    "logging.debug('debug message')\n",
    "logging.info('info message')\n",
    "logging.warning('warn message')\n",
    "logging.error('error message')\n",
    "logging.critical('critical message')"
   ],
   "metadata": {
    "collapsed": false
   }
  },
  {
   "cell_type": "code",
   "execution_count": 54,
   "outputs": [
    {
     "data": {
      "text/plain": "CustomerID     string\nLastName       string\nFirstName      string\nPhoneNumber    string\nCreatedDate    object\nUpdatedDate    object\nSourceID       string\nUniqueID       string\ndtype: object"
     },
     "execution_count": 54,
     "metadata": {},
     "output_type": "execute_result"
    }
   ],
   "source": [
    "import pandas as pd\n",
    "\n",
    "df = pd.DataFrame(pd.read_excel('data/dboCustomers.xlsx'))\n",
    "df['SourceID'] = '1'\n",
    "df['UniqueID'] = df['SourceID']+df['CustomerID']\n",
    "df['UniqueID'] = df[['UniqueID']]\n",
    "df['PhoneNumber'] = df[['PhoneNumber']].astype(str)\n",
    "df1 = df[['CustomerID','LastName','FirstName','PhoneNumber','CreatedDate','UpdatedDate','SourceID','UniqueID']]\n",
    "df1.convert_dtypes().dtypes\n",
    "\n",
    "\n"
   ],
   "metadata": {
    "collapsed": false,
    "ExecuteTime": {
     "start_time": "2023-06-14T23:56:33.542006Z",
     "end_time": "2023-06-14T23:56:33.618992Z"
    }
   }
  },
  {
   "cell_type": "code",
   "execution_count": 23,
   "outputs": [
    {
     "name": "stderr",
     "output_type": "stream",
     "text": [
      "No artists with labels found to put in legend.  Note that artists whose label start with an underscore are ignored when legend() is called with no argument.\n"
     ]
    },
    {
     "data": {
      "text/plain": "<Figure size 640x480 with 2 Axes>",
      "image/png": "[encoded data removed]"
     },
     "metadata": {},
     "output_type": "display_data"
    }
   ],
   "source": [
    "from matplotlib import pyplot as plt\n",
    "import pandas as pd\n",
    "import seaborn as sns\n",
    "\n",
    "df = pd.DataFrame(pd.read_csv('data/dataset.csv'))\n",
    "f, (ax_box, ax_hist) = plt.subplots(2, gridspec_kw= {\"height_ratios\": (0.2, 1)})\n",
    "df_mean = df['GDP'].mean()\n",
    "df_median = df['GDP'].median()\n",
    "df_mode = df['GDP'].mode().values[0]\n",
    "\n",
    "sns.boxplot(data=df, x=\"GDP\", ax=ax_box)\n",
    "ax_box.axvline(df_mean, color='r', linestyle='--')\n",
    "ax_box.axvline(df_median, color='g', linestyle='-')\n",
    "ax_box.axvline(df_mode, color='b', linestyle='-')\n",
    "\n",
    "# sns.histplot(data=df, x=\"GDP\", ax=ax_hist, kde=True)\n",
    "# ax_hist.axvline(df_mean, color='r', linestyle='--', label=\"Mean\")\n",
    "# ax_hist.axvline(df_median, color='g', linestyle='-', label=\"Median\")\n",
    "# ax_hist.axvline(df_mode, color='b', linestyle='-', label=\"Mode\")\n",
    "\n",
    "# ax_hist.legend()\n",
    "\n",
    "# ax_box.set(xlabel='')\n",
    "plt.show()\n"
   ],
   "metadata": {
    "collapsed": false,
    "ExecuteTime": {
     "start_time": "2023-09-04T21:04:18.406613Z",
     "end_time": "2023-09-04T21:04:18.500002Z"
    }
   }
  },
  {
   "cell_type": "code",
   "execution_count": 26,
   "outputs": [
    {
     "data": {
      "text/plain": "<Axes: xlabel='GDP'>"
     },
     "execution_count": 26,
     "metadata": {},
     "output_type": "execute_result"
    }
   ],
   "source": [
    "import matplotlib.pyplot as plt\n",
    "import seaborn as sns\n",
    "import numpy as np\n",
    "%matplotlib inline\n",
    "\n",
    "df = pd.DataFrame(pd.read_csv('data/dataset.csv'))\n",
    "# sns.displot(df['GDP'], kde=True, rug=True)\n",
    "# plt.axvline(np.median(df['GDP']),color='b', linestyle='--')\n",
    "\n",
    "# sns.boxplot(data=df, x=\"GDP\", ax=ax_box)"
   ],
   "metadata": {
    "collapsed": false,
    "ExecuteTime": {
     "start_time": "2023-09-04T21:07:14.164715Z",
     "end_time": "2023-09-04T21:07:14.173337Z"
    }
   }
  },
  {
   "cell_type": "code",
   "execution_count": 72,
   "outputs": [
    {
     "data": {
      "text/plain": "<Figure size 640x480 with 1 Axes>",
      "image/png": "[encoded data removed]"
     },
     "metadata": {},
     "output_type": "display_data"
    }
   ],
   "source": [
    "import pandas as pd\n",
    "import matplotlib.pyplot as plt\n",
    "\n",
    "df = pd.DataFrame(pd.read_csv('data/dataset.csv'))\n",
    "\n",
    "df_median = df['GDP'].median()\n",
    "df_mean = df['GDP'].mean().round(2)\n",
    "df_mode = df['GDP'].mode().values[0]\n",
    "\n",
    "plt.boxplot(df['GDP'], vert=False)\n",
    "\n",
    "plt.xlabel(\"cop (in trillions uso)\")\n",
    "plt.title(\"GDP\")\n",
    "plt.scatter([df_mean], [1], marker='o', color='green', label='Mean')\n",
    "plt.scatter([df_median], [1], marker='o', color='yellow', label='Median')\n",
    "plt.scatter([df_mode], [1], marker='o', color='orange', label='Mode')\n",
    "\n",
    "plt.annotate(f'Mean: {df_mean}', (df_mean, 1.1), color='green')\n",
    "plt.annotate(f'Median: {df_median}', (df_median, 1.0), color='yellow')\n",
    "plt.annotate(f'Mode: {df_mode}', (df_mode, 1.1), color='orange')\n",
    "plt.legend()\n",
    "plt.show()"
   ],
   "metadata": {
    "collapsed": false,
    "ExecuteTime": {
     "start_time": "2023-09-04T23:11:26.058613Z",
     "end_time": "2023-09-04T23:11:26.141321Z"
    }
   }
  }
 ],
 "metadata": {
  "kernelspec": {
   "display_name": "Python 3",
   "language": "python",
   "name": "python3"
  },
  "language_info": {
   "codemirror_mode": {
    "name": "ipython",
    "version": 2
   },
   "file_extension": ".py",
   "mimetype": "text/x-python",
   "name": "python",
   "nbconvert_exporter": "python",
   "pygments_lexer": "ipython2",
   "version": "2.7.6"
  }
 },
 "nbformat": 4,
 "nbformat_minor": 0
}
