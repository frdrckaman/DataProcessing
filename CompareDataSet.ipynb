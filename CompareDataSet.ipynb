{
 "cells": [
  {
   "cell_type": "code",
   "execution_count": 64,
   "metadata": {
    "collapsed": true
   },
   "outputs": [
    {
     "name": "stdout",
     "output_type": "stream",
     "text": [
      "9120000004810\n",
      "9120000099552\n",
      "9120000043921\n",
      "9120000107512\n",
      "9120001346235\n",
      "9120001365833\n",
      "9120000216702\n",
      "9120001346227\n",
      "9120000255139\n",
      "87706\n"
     ]
    }
   ],
   "source": [
    "import pandas as pd\n",
    "import numpy as np\n",
    "\n",
    "# import data files\n",
    "df1 = pd.DataFrame(pd.read_csv('data/OraMasterList.csv'))\n",
    "df2 = pd.DataFrame(pd.read_csv('data/MasterList.csv'))\n",
    "\n",
    "# df1['ACCOUNT_NUMBER'].equals(df2['account_number'])\n",
    "\n",
    "# print(df1['ACCOUNT_NUMBER'].isin(df2['account_number']))\n",
    "# df2 = df2.rename(columns={\"account_number\": \"ACCOUNT_NUMBER\"})\n",
    "# res = df1.merge(df2, on=[\"ACCOUNT_NUMBER\"], how=\"right\")\n",
    "#\n",
    "# res\n",
    "\n",
    "d2 = df1['ACCOUNT_NUMBER'].tolist()\n",
    "i = 0\n",
    "for d in df2['account_number']:\n",
    "    d1 = int(d)\n",
    "    if d1 in d2:\n",
    "        i = i + 1\n",
    "    else:\n",
    "        print(d1)\n",
    "print(i)\n",
    "\n",
    "\n",
    "\n",
    "# convert ACCOUNT_NUMBER & CUSTOMER_NUMBER to string for both df1 & df2\n",
    "# df1['ACCOUNT_NUMBER'] = df1['ACCOUNT_NUMBER'].apply(str)\n",
    "# df1['CUSTOMER_NUMBER'] = df1['CUSTOMER_NUMBER'].apply(str)\n",
    "#\n",
    "# df2['account_number'] = df2['account_number'].map(str)\n",
    "# df2['CUSTOMER_NUMBER'] = df2['CUSTOMER_NUMBER'].apply(str)\n",
    "\n",
    "# check if column have unique values\n",
    "# df1['ACCOUNT_NUMBER'].is_unique\n",
    "# df2['account_number'].is_unique\n",
    "\n",
    "# list duplicate values on a column\n",
    "# pd.concat(g for _, g in df2.groupby(\"account_number\") if len(g) > 1)\n",
    "\n",
    "\n",
    "# # compare two dataset using index side by side ACCOUNT_NUMBER\n",
    "# df_diff = pd.concat([df1.set_index('ACCOUNT_NUMBER'),df2.set_index('account_number')], axis='columns', keys=['ORACLE', 'SQL-SERVER'])\n",
    "#\n",
    "# # put similar column side by side\n",
    "# df_final = df_diff.swaplevel(axis='columns')[df1.columns[1:]]\n",
    "#\n",
    "# df_final\n",
    "\n",
    "# # highlight the difference\n",
    "# def highlight_diff(data, color='yellow'):\n",
    "#     attr = 'background-color: {}'.format(color)\n",
    "#     other = data.xs('ORACLE', axis='columns', level=-1)\n",
    "#     return pd.DataFrame(np.where(data.ne(other, level=0), attr, ''),\n",
    "#                         index=data.index, columns=data.columns)\n",
    "#\n",
    "# df_final.style.apply(highlight_diff, axis=None)\n",
    "9120000004810"
   ]
  },
  {
   "cell_type": "code",
   "execution_count": 44,
   "outputs": [],
   "source": [
    "import pandas as pd\n",
    "import numpy as np\n",
    "\n",
    "df1 = pd.DataFrame(pd.read_excel('data/cus_1.xlsx'))\n",
    "df2 = pd.DataFrame(pd.read_excel('data/cus_2.xlsx'))\n",
    "df3 = pd.DataFrame(pd.read_excel('data/cus_3.xlsx'))"
   ],
   "metadata": {
    "collapsed": false
   }
  },
  {
   "cell_type": "code",
   "execution_count": 49,
   "outputs": [
    {
     "data": {
      "text/plain": "Empty DataFrame\nColumns: [account_number, CUSTOMER_NUMBER, acct_name, cust_dob, SALES_CODE, portifolio_code, WPB_Flag, segment_description, acct_crncy_code, extract_date, acct_opn_date, last_tran_date, DAYS, branch_name, cal_branch_name, schm_type, SCHM_CODE, acct_status, re_cal_status, CIF_CREATION, manager, emp_name, PHONENO, EMAIL]\nIndex: []\n\n[0 rows x 24 columns]",
      "text/html": "<div>\n<style scoped>\n    .dataframe tbody tr th:only-of-type {\n        vertical-align: middle;\n    }\n\n    .dataframe tbody tr th {\n        vertical-align: top;\n    }\n\n    .dataframe thead th {\n        text-align: right;\n    }\n</style>\n<table border=\"1\" class=\"dataframe\">\n  <thead>\n    <tr style=\"text-align: right;\">\n      <th></th>\n      <th>account_number</th>\n      <th>CUSTOMER_NUMBER</th>\n      <th>acct_name</th>\n      <th>cust_dob</th>\n      <th>SALES_CODE</th>\n      <th>portifolio_code</th>\n      <th>WPB_Flag</th>\n      <th>segment_description</th>\n      <th>acct_crncy_code</th>\n      <th>extract_date</th>\n      <th>...</th>\n      <th>cal_branch_name</th>\n      <th>schm_type</th>\n      <th>SCHM_CODE</th>\n      <th>acct_status</th>\n      <th>re_cal_status</th>\n      <th>CIF_CREATION</th>\n      <th>manager</th>\n      <th>emp_name</th>\n      <th>PHONENO</th>\n      <th>EMAIL</th>\n    </tr>\n  </thead>\n  <tbody>\n  </tbody>\n</table>\n<p>0 rows × 24 columns</p>\n</div>"
     },
     "execution_count": 49,
     "metadata": {},
     "output_type": "execute_result"
    }
   ],
   "source": [
    "df2_1 = df2[['CUSTOMER_ID', 'PRMRY']]\n",
    "\n",
    "# df4 = pd.merge(df1, df2_1, how='left', left_on='CUSTOMER_NUMBER', right_on='CUSTOMER_ID')\n",
    "\n",
    "df4 = df1.merge(df2_1, left_on='CUSTOMER_NUMBER', right_on='CUSTOMER_ID')\n",
    "\n",
    "# df3=df3.groupby(['CUSTOMER_NUMBER']).size().reset_index(name='count')\n",
    "\n",
    "# df3_1.isnull().values.any()\n",
    "\n",
    "# df3['count'] = df3_1['count']\n",
    "#\n",
    "# # df3['count'].astype('int64')\n",
    "#\n",
    "# df3['count'].isnull().values.any()\n",
    "#\n",
    "# # df3.head()\n",
    "#\n",
    "# df3\n",
    "\n",
    "# df5 = df3\n",
    "\n",
    "df3[df3['CUSTOMER_NUMBER'] == '11200000031']\n",
    "\n",
    "\n",
    "# for index, row in df5.iterrows():\n",
    "#     df3.loc[df3['CUSTOMER_NUMBER'] == row[]]\n",
    "#       print(row[\"c1\"], row[\"c2\"])"
   ],
   "metadata": {
    "collapsed": false
   }
  }
 ],
 "metadata": {
  "kernelspec": {
   "display_name": "Python 3",
   "language": "python",
   "name": "python3"
  },
  "language_info": {
   "codemirror_mode": {
    "name": "ipython",
    "version": 2
   },
   "file_extension": ".py",
   "mimetype": "text/x-python",
   "name": "python",
   "nbconvert_exporter": "python",
   "pygments_lexer": "ipython2",
   "version": "2.7.6"
  }
 },
 "nbformat": 4,
 "nbformat_minor": 0
}
