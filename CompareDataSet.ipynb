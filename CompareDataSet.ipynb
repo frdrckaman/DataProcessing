{
 "cells": [
  {
   "cell_type": "code",
   "execution_count": 64,
   "metadata": {
    "collapsed": true
   },
   "outputs": [
    {
     "name": "stdout",
     "output_type": "stream",
     "text": [
      "9120000004810\n",
      "9120000099552\n",
      "9120000043921\n",
      "9120000107512\n",
      "9120001346235\n",
      "9120001365833\n",
      "9120000216702\n",
      "9120001346227\n",
      "9120000255139\n",
      "87706\n"
     ]
    }
   ],
   "source": [
    "import pandas as pd\n",
    "import numpy as np\n",
    "\n",
    "# import data files\n",
    "df1 = pd.DataFrame(pd.read_csv('data/OraMasterList.csv'))\n",
    "df2 = pd.DataFrame(pd.read_csv('data/MasterList.csv'))\n",
    "\n",
    "# df1['ACCOUNT_NUMBER'].equals(df2['account_number'])\n",
    "\n",
    "# print(df1['ACCOUNT_NUMBER'].isin(df2['account_number']))\n",
    "# df2 = df2.rename(columns={\"account_number\": \"ACCOUNT_NUMBER\"})\n",
    "# res = df1.merge(df2, on=[\"ACCOUNT_NUMBER\"], how=\"right\")\n",
    "#\n",
    "# res\n",
    "\n",
    "d2 = df1['ACCOUNT_NUMBER'].tolist()\n",
    "i = 0\n",
    "for d in df2['account_number']:\n",
    "    d1 = int(d)\n",
    "    if d1 in d2:\n",
    "        i = i + 1\n",
    "    else:\n",
    "        print(d1)\n",
    "print(i)\n",
    "\n",
    "\n",
    "\n",
    "# convert ACCOUNT_NUMBER & CUSTOMER_NUMBER to string for both df1 & df2\n",
    "# df1['ACCOUNT_NUMBER'] = df1['ACCOUNT_NUMBER'].apply(str)\n",
    "# df1['CUSTOMER_NUMBER'] = df1['CUSTOMER_NUMBER'].apply(str)\n",
    "#\n",
    "# df2['account_number'] = df2['account_number'].map(str)\n",
    "# df2['CUSTOMER_NUMBER'] = df2['CUSTOMER_NUMBER'].apply(str)\n",
    "\n",
    "# check if column have unique values\n",
    "# df1['ACCOUNT_NUMBER'].is_unique\n",
    "# df2['account_number'].is_unique\n",
    "\n",
    "# list duplicate values on a column\n",
    "# pd.concat(g for _, g in df2.groupby(\"account_number\") if len(g) > 1)\n",
    "\n",
    "\n",
    "# # compare two dataset using index side by side ACCOUNT_NUMBER\n",
    "# df_diff = pd.concat([df1.set_index('ACCOUNT_NUMBER'),df2.set_index('account_number')], axis='columns', keys=['ORACLE', 'SQL-SERVER'])\n",
    "#\n",
    "# # put similar column side by side\n",
    "# df_final = df_diff.swaplevel(axis='columns')[df1.columns[1:]]\n",
    "#\n",
    "# df_final\n",
    "\n",
    "# # highlight the difference\n",
    "# def highlight_diff(data, color='yellow'):\n",
    "#     attr = 'background-color: {}'.format(color)\n",
    "#     other = data.xs('ORACLE', axis='columns', level=-1)\n",
    "#     return pd.DataFrame(np.where(data.ne(other, level=0), attr, ''),\n",
    "#                         index=data.index, columns=data.columns)\n",
    "#\n",
    "# df_final.style.apply(highlight_diff, axis=None)\n",
    "9120000004810"
   ]
  },
  {
   "cell_type": "code",
   "execution_count": 44,
   "outputs": [],
   "source": [
    "import pandas as pd\n",
    "import numpy as np\n",
    "\n",
    "df1 = pd.DataFrame(pd.read_excel('data/cus_1.xlsx'))\n",
    "df2 = pd.DataFrame(pd.read_excel('data/cus_2.xlsx'))\n",
    "df3 = pd.DataFrame(pd.read_excel('data/cus_3.xlsx'))"
   ],
   "metadata": {
    "collapsed": false
   }
  },
  {
   "cell_type": "code",
   "execution_count": 49,
   "outputs": [
    {
     "data": {
      "text/plain": "Empty DataFrame\nColumns: [account_number, CUSTOMER_NUMBER, acct_name, cust_dob, SALES_CODE, portifolio_code, WPB_Flag, segment_description, acct_crncy_code, extract_date, acct_opn_date, last_tran_date, DAYS, branch_name, cal_branch_name, schm_type, SCHM_CODE, acct_status, re_cal_status, CIF_CREATION, manager, emp_name, PHONENO, EMAIL]\nIndex: []\n\n[0 rows x 24 columns]",
      "text/html": "<div>\n<style scoped>\n    .dataframe tbody tr th:only-of-type {\n        vertical-align: middle;\n    }\n\n    .dataframe tbody tr th {\n        vertical-align: top;\n    }\n\n    .dataframe thead th {\n        text-align: right;\n    }\n</style>\n<table border=\"1\" class=\"dataframe\">\n  <thead>\n    <tr style=\"text-align: right;\">\n      <th></th>\n      <th>account_number</th>\n      <th>CUSTOMER_NUMBER</th>\n      <th>acct_name</th>\n      <th>cust_dob</th>\n      <th>SALES_CODE</th>\n      <th>portifolio_code</th>\n      <th>WPB_Flag</th>\n      <th>segment_description</th>\n      <th>acct_crncy_code</th>\n      <th>extract_date</th>\n      <th>...</th>\n      <th>cal_branch_name</th>\n      <th>schm_type</th>\n      <th>SCHM_CODE</th>\n      <th>acct_status</th>\n      <th>re_cal_status</th>\n      <th>CIF_CREATION</th>\n      <th>manager</th>\n      <th>emp_name</th>\n      <th>PHONENO</th>\n      <th>EMAIL</th>\n    </tr>\n  </thead>\n  <tbody>\n  </tbody>\n</table>\n<p>0 rows × 24 columns</p>\n</div>"
     },
     "execution_count": 49,
     "metadata": {},
     "output_type": "execute_result"
    }
   ],
   "source": [
    "df2_1 = df2[['CUSTOMER_ID', 'PRMRY']]\n",
    "\n",
    "# df4 = pd.merge(df1, df2_1, how='left', left_on='CUSTOMER_NUMBER', right_on='CUSTOMER_ID')\n",
    "\n",
    "df4 = df1.merge(df2_1, left_on='CUSTOMER_NUMBER', right_on='CUSTOMER_ID')\n",
    "\n",
    "# df3=df3.groupby(['CUSTOMER_NUMBER']).size().reset_index(name='count')\n",
    "\n",
    "# df3_1.isnull().values.any()\n",
    "\n",
    "# df3['count'] = df3_1['count']\n",
    "#\n",
    "# # df3['count'].astype('int64')\n",
    "#\n",
    "# df3['count'].isnull().values.any()\n",
    "#\n",
    "# # df3.head()\n",
    "#\n",
    "# df3\n",
    "\n",
    "# df5 = df3\n",
    "\n",
    "df3[df3['CUSTOMER_NUMBER'] == '11200000031']\n",
    "\n",
    "\n",
    "# for index, row in df5.iterrows():\n",
    "#     df3.loc[df3['CUSTOMER_NUMBER'] == row[]]\n",
    "#       print(row[\"c1\"], row[\"c2\"])"
   ],
   "metadata": {
    "collapsed": false
   }
  },
  {
   "cell_type": "code",
   "execution_count": 1,
   "outputs": [
    {
     "data": {
      "text/plain": "            CARD_NUMBER      FORACID_x          ACCT_NAME_x ACCT_OPN_DATE_x  \\\n0      4313313000499989  9120002368895      MOHAMED KISENGO      2021-02-05   \n1      4313313000558982  9120001101453          NGOMA,AMIRY      2010-09-07   \n2      4313313000356064  9120002173377       ISMAIL WARIOBA      2020-07-02   \n3      4313323000627067  9120000197295         CHOTEKA ALLY      2004-02-11   \n4      4313313000420977  9120002246757        MARWA SULEMAN      2020-09-08   \n...                 ...            ...                  ...             ...   \n46679  4313311011027419  9120001088597    BERNARD KAGOMBORA      2017-02-06   \n46680  4313313000371865  9120002198493      MAULID M MAULID      2020-07-25   \n46681  4463141011039496  9120002285035  ALEXANDER EVERSBERG      2020-10-20   \n46682  4463141011039488  9120002285035  ALEXANDER EVERSBERG      2020-10-20   \n46683  4313313000508425  9120002340524       GEMA MWAMAKULA      2021-01-04   \n\n                EMBOSS_NAME_x ISSUE_DATE_x VALID_TO_DATE_x  \\\n0             MOHAMED KISENGO   2021-02-05      2026-02-05   \n1                 AMIRY NGOMA   2021-05-05      2026-05-05   \n2              ISMAIL WARIOBA   2020-07-02      2025-07-02   \n3                ALLY CHOTEKA   2017-05-29      2022-05-29   \n4               MARWA SULEMAN   2020-09-08      2025-09-08   \n...                       ...          ...             ...   \n46679  BERNARD PAUL KAGOMBORA   2017-08-31      2022-08-31   \n46680         MAULID M MAULID   2020-07-25      2025-07-25   \n46681         JAMEY EVERSBERG   2020-10-30      2025-10-30   \n46682     ALEXANDER EVERSBERG   2020-10-30      2025-10-30   \n46683          GEMA MWAMAKULA   2021-01-03      2026-01-04   \n\n              LCHG_TIME_x CARD_STATUS_x CARD_SUB_TYPE_x  ... ACCT_OPN_DATE_y  \\\n0     2021-02-05 15:46:37             A            GOLD  ...      2021-02-05   \n1     2022-03-07 17:04:06             D            GOLD  ...      2010-09-07   \n2     2020-07-02 14:35:06             A            GOLD  ...      2020-07-02   \n3     2022-05-02 08:41:41             D            BLUE  ...      2004-02-11   \n4     2021-11-11 16:55:25             A            GOLD  ...      2020-09-08   \n...                   ...           ...             ...  ...             ...   \n46679 2017-09-20 14:12:48             A            GOLD  ...      2017-02-06   \n46680 2020-07-27 15:54:30             A            GOLD  ...      2020-07-25   \n46681 2021-10-27 12:18:30             A           PLATI  ...      2020-10-20   \n46682 2020-11-10 12:38:39             A           PLATI  ...      2020-10-20   \n46683 2021-01-03 21:40:10             A            GOLD  ...      2021-01-04   \n\n                EMBOSS_NAME_y  ISSUE_DATE_y VALID_TO_DATE_y  \\\n0             MOHAMED KISENGO    2021-02-05      2026-02-05   \n1                 AMIRY NGOMA    2021-05-05      2026-05-05   \n2              ISMAIL WARIOBA    2020-07-02      2025-07-02   \n3                ALLY CHOTEKA    2017-05-29      2022-05-29   \n4               MARWA SULEMAN    2020-09-08      2025-09-08   \n...                       ...           ...             ...   \n46679  BERNARD PAUL KAGOMBORA    2017-08-31      2022-08-31   \n46680         MAULID M MAULID    2020-07-25      2025-07-25   \n46681         JAMEY EVERSBERG    2020-10-30      2025-10-30   \n46682     ALEXANDER EVERSBERG    2020-10-30      2025-10-30   \n46683          GEMA MWAMAKULA    2021-01-03      2026-01-04   \n\n              LCHG_TIME_y CARD_STATUS_y CARD_SUB_TYPE_y CARD_TYPE_y  \\\n0     2021-02-05 15:46:37             A            GOLD       VISAB   \n1     2021-05-05 14:02:50             A            GOLD       VISAB   \n2     2020-07-02 14:35:06             A            GOLD       VISAB   \n3     2021-11-18 13:09:54             D            BLUE       VISAB   \n4     2021-11-11 16:55:25             A            GOLD       VISAB   \n...                   ...           ...             ...         ...   \n46679 2017-09-20 14:12:48             A            GOLD       VISAP   \n46680 2020-07-27 15:54:30             A            GOLD       VISAB   \n46681 2021-10-27 12:18:30             A           PLATI       VISAP   \n46682 2020-11-10 12:38:39             A           PLATI       VISAP   \n46683 2021-01-03 21:40:10             A            GOLD       VISAB   \n\n         PHONE_NUM_y _merge  \n0                NaN   both  \n1      +255755045055   both  \n2                NaN   both  \n3      +255784505510   both  \n4                NaN   both  \n...              ...    ...  \n46679  +255768196899   both  \n46680            NaN   both  \n46681  +255765284381   both  \n46682  +255765284381   both  \n46683            NaN   both  \n\n[46684 rows x 24 columns]",
      "text/html": "<div>\n<style scoped>\n    .dataframe tbody tr th:only-of-type {\n        vertical-align: middle;\n    }\n\n    .dataframe tbody tr th {\n        vertical-align: top;\n    }\n\n    .dataframe thead th {\n        text-align: right;\n    }\n</style>\n<table border=\"1\" class=\"dataframe\">\n  <thead>\n    <tr style=\"text-align: right;\">\n      <th></th>\n      <th>CARD_NUMBER</th>\n      <th>FORACID_x</th>\n      <th>ACCT_NAME_x</th>\n      <th>ACCT_OPN_DATE_x</th>\n      <th>EMBOSS_NAME_x</th>\n      <th>ISSUE_DATE_x</th>\n      <th>VALID_TO_DATE_x</th>\n      <th>LCHG_TIME_x</th>\n      <th>CARD_STATUS_x</th>\n      <th>CARD_SUB_TYPE_x</th>\n      <th>...</th>\n      <th>ACCT_OPN_DATE_y</th>\n      <th>EMBOSS_NAME_y</th>\n      <th>ISSUE_DATE_y</th>\n      <th>VALID_TO_DATE_y</th>\n      <th>LCHG_TIME_y</th>\n      <th>CARD_STATUS_y</th>\n      <th>CARD_SUB_TYPE_y</th>\n      <th>CARD_TYPE_y</th>\n      <th>PHONE_NUM_y</th>\n      <th>_merge</th>\n    </tr>\n  </thead>\n  <tbody>\n    <tr>\n      <th>0</th>\n      <td>4313313000499989</td>\n      <td>9120002368895</td>\n      <td>MOHAMED KISENGO</td>\n      <td>2021-02-05</td>\n      <td>MOHAMED KISENGO</td>\n      <td>2021-02-05</td>\n      <td>2026-02-05</td>\n      <td>2021-02-05 15:46:37</td>\n      <td>A</td>\n      <td>GOLD</td>\n      <td>...</td>\n      <td>2021-02-05</td>\n      <td>MOHAMED KISENGO</td>\n      <td>2021-02-05</td>\n      <td>2026-02-05</td>\n      <td>2021-02-05 15:46:37</td>\n      <td>A</td>\n      <td>GOLD</td>\n      <td>VISAB</td>\n      <td>NaN</td>\n      <td>both</td>\n    </tr>\n    <tr>\n      <th>1</th>\n      <td>4313313000558982</td>\n      <td>9120001101453</td>\n      <td>NGOMA,AMIRY</td>\n      <td>2010-09-07</td>\n      <td>AMIRY NGOMA</td>\n      <td>2021-05-05</td>\n      <td>2026-05-05</td>\n      <td>2022-03-07 17:04:06</td>\n      <td>D</td>\n      <td>GOLD</td>\n      <td>...</td>\n      <td>2010-09-07</td>\n      <td>AMIRY NGOMA</td>\n      <td>2021-05-05</td>\n      <td>2026-05-05</td>\n      <td>2021-05-05 14:02:50</td>\n      <td>A</td>\n      <td>GOLD</td>\n      <td>VISAB</td>\n      <td>+255755045055</td>\n      <td>both</td>\n    </tr>\n    <tr>\n      <th>2</th>\n      <td>4313313000356064</td>\n      <td>9120002173377</td>\n      <td>ISMAIL WARIOBA</td>\n      <td>2020-07-02</td>\n      <td>ISMAIL WARIOBA</td>\n      <td>2020-07-02</td>\n      <td>2025-07-02</td>\n      <td>2020-07-02 14:35:06</td>\n      <td>A</td>\n      <td>GOLD</td>\n      <td>...</td>\n      <td>2020-07-02</td>\n      <td>ISMAIL WARIOBA</td>\n      <td>2020-07-02</td>\n      <td>2025-07-02</td>\n      <td>2020-07-02 14:35:06</td>\n      <td>A</td>\n      <td>GOLD</td>\n      <td>VISAB</td>\n      <td>NaN</td>\n      <td>both</td>\n    </tr>\n    <tr>\n      <th>3</th>\n      <td>4313323000627067</td>\n      <td>9120000197295</td>\n      <td>CHOTEKA ALLY</td>\n      <td>2004-02-11</td>\n      <td>ALLY CHOTEKA</td>\n      <td>2017-05-29</td>\n      <td>2022-05-29</td>\n      <td>2022-05-02 08:41:41</td>\n      <td>D</td>\n      <td>BLUE</td>\n      <td>...</td>\n      <td>2004-02-11</td>\n      <td>ALLY CHOTEKA</td>\n      <td>2017-05-29</td>\n      <td>2022-05-29</td>\n      <td>2021-11-18 13:09:54</td>\n      <td>D</td>\n      <td>BLUE</td>\n      <td>VISAB</td>\n      <td>+255784505510</td>\n      <td>both</td>\n    </tr>\n    <tr>\n      <th>4</th>\n      <td>4313313000420977</td>\n      <td>9120002246757</td>\n      <td>MARWA SULEMAN</td>\n      <td>2020-09-08</td>\n      <td>MARWA SULEMAN</td>\n      <td>2020-09-08</td>\n      <td>2025-09-08</td>\n      <td>2021-11-11 16:55:25</td>\n      <td>A</td>\n      <td>GOLD</td>\n      <td>...</td>\n      <td>2020-09-08</td>\n      <td>MARWA SULEMAN</td>\n      <td>2020-09-08</td>\n      <td>2025-09-08</td>\n      <td>2021-11-11 16:55:25</td>\n      <td>A</td>\n      <td>GOLD</td>\n      <td>VISAB</td>\n      <td>NaN</td>\n      <td>both</td>\n    </tr>\n    <tr>\n      <th>...</th>\n      <td>...</td>\n      <td>...</td>\n      <td>...</td>\n      <td>...</td>\n      <td>...</td>\n      <td>...</td>\n      <td>...</td>\n      <td>...</td>\n      <td>...</td>\n      <td>...</td>\n      <td>...</td>\n      <td>...</td>\n      <td>...</td>\n      <td>...</td>\n      <td>...</td>\n      <td>...</td>\n      <td>...</td>\n      <td>...</td>\n      <td>...</td>\n      <td>...</td>\n      <td>...</td>\n    </tr>\n    <tr>\n      <th>46679</th>\n      <td>4313311011027419</td>\n      <td>9120001088597</td>\n      <td>BERNARD KAGOMBORA</td>\n      <td>2017-02-06</td>\n      <td>BERNARD PAUL KAGOMBORA</td>\n      <td>2017-08-31</td>\n      <td>2022-08-31</td>\n      <td>2017-09-20 14:12:48</td>\n      <td>A</td>\n      <td>GOLD</td>\n      <td>...</td>\n      <td>2017-02-06</td>\n      <td>BERNARD PAUL KAGOMBORA</td>\n      <td>2017-08-31</td>\n      <td>2022-08-31</td>\n      <td>2017-09-20 14:12:48</td>\n      <td>A</td>\n      <td>GOLD</td>\n      <td>VISAP</td>\n      <td>+255768196899</td>\n      <td>both</td>\n    </tr>\n    <tr>\n      <th>46680</th>\n      <td>4313313000371865</td>\n      <td>9120002198493</td>\n      <td>MAULID M MAULID</td>\n      <td>2020-07-25</td>\n      <td>MAULID M MAULID</td>\n      <td>2020-07-25</td>\n      <td>2025-07-25</td>\n      <td>2020-07-27 15:54:30</td>\n      <td>A</td>\n      <td>GOLD</td>\n      <td>...</td>\n      <td>2020-07-25</td>\n      <td>MAULID M MAULID</td>\n      <td>2020-07-25</td>\n      <td>2025-07-25</td>\n      <td>2020-07-27 15:54:30</td>\n      <td>A</td>\n      <td>GOLD</td>\n      <td>VISAB</td>\n      <td>NaN</td>\n      <td>both</td>\n    </tr>\n    <tr>\n      <th>46681</th>\n      <td>4463141011039496</td>\n      <td>9120002285035</td>\n      <td>ALEXANDER EVERSBERG</td>\n      <td>2020-10-20</td>\n      <td>JAMEY EVERSBERG</td>\n      <td>2020-10-30</td>\n      <td>2025-10-30</td>\n      <td>2021-10-27 12:18:30</td>\n      <td>A</td>\n      <td>PLATI</td>\n      <td>...</td>\n      <td>2020-10-20</td>\n      <td>JAMEY EVERSBERG</td>\n      <td>2020-10-30</td>\n      <td>2025-10-30</td>\n      <td>2021-10-27 12:18:30</td>\n      <td>A</td>\n      <td>PLATI</td>\n      <td>VISAP</td>\n      <td>+255765284381</td>\n      <td>both</td>\n    </tr>\n    <tr>\n      <th>46682</th>\n      <td>4463141011039488</td>\n      <td>9120002285035</td>\n      <td>ALEXANDER EVERSBERG</td>\n      <td>2020-10-20</td>\n      <td>ALEXANDER EVERSBERG</td>\n      <td>2020-10-30</td>\n      <td>2025-10-30</td>\n      <td>2020-11-10 12:38:39</td>\n      <td>A</td>\n      <td>PLATI</td>\n      <td>...</td>\n      <td>2020-10-20</td>\n      <td>ALEXANDER EVERSBERG</td>\n      <td>2020-10-30</td>\n      <td>2025-10-30</td>\n      <td>2020-11-10 12:38:39</td>\n      <td>A</td>\n      <td>PLATI</td>\n      <td>VISAP</td>\n      <td>+255765284381</td>\n      <td>both</td>\n    </tr>\n    <tr>\n      <th>46683</th>\n      <td>4313313000508425</td>\n      <td>9120002340524</td>\n      <td>GEMA MWAMAKULA</td>\n      <td>2021-01-04</td>\n      <td>GEMA MWAMAKULA</td>\n      <td>2021-01-03</td>\n      <td>2026-01-04</td>\n      <td>2021-01-03 21:40:10</td>\n      <td>A</td>\n      <td>GOLD</td>\n      <td>...</td>\n      <td>2021-01-04</td>\n      <td>GEMA MWAMAKULA</td>\n      <td>2021-01-03</td>\n      <td>2026-01-04</td>\n      <td>2021-01-03 21:40:10</td>\n      <td>A</td>\n      <td>GOLD</td>\n      <td>VISAB</td>\n      <td>NaN</td>\n      <td>both</td>\n    </tr>\n  </tbody>\n</table>\n<p>46684 rows × 24 columns</p>\n</div>"
     },
     "execution_count": 1,
     "metadata": {},
     "output_type": "execute_result"
    }
   ],
   "source": [
    "# check values that both merge and not merge between 2 dataset\n",
    "import pandas as pd\n",
    "\n",
    "df2 = pd.DataFrame(pd.read_excel('data/R1.xlsx'))\n",
    "df1 = pd.DataFrame(pd.read_excel('data/L1.xlsx'))\n",
    "\n",
    "# df1.head()\n",
    "\n",
    "# df1 = pd.DataFrame(pd.read_excel('data/ods.xlsx'))\n",
    "# df2 = pd.DataFrame(pd.read_excel('data/rsvr.xlsx'))\n",
    "\n",
    "df_all = df1.merge(df2.drop_duplicates(), on=['CARD_NUMBER','CARD_NUMBER'],\n",
    "                   how='left', indicator=True)\n",
    "\n",
    "df_all"
   ],
   "metadata": {
    "collapsed": false
   }
  },
  {
   "cell_type": "code",
   "execution_count": 1,
   "outputs": [
    {
     "name": "stdout",
     "output_type": "stream",
     "text": [
      "['card_status', 'I', 'A', 'last_oprn_done', 'A', 'S', '']\n"
     ]
    }
   ],
   "source": [
    "status = 'card_status|I|A|last_oprn_done|A|S|'\n",
    "\n",
    "list_data = status.split('|')\n",
    "\n"
   ],
   "metadata": {
    "collapsed": false
   }
  },
  {
   "cell_type": "code",
   "execution_count": 2,
   "outputs": [
    {
     "data": {
      "text/plain": "  Reporting date & time  Account number               Account name  \\\n0            2023-03-13           13800  Central Bank:Free Balance   \n1            2023-03-13           13800  Central Bank:Free Balance   \n2            2023-03-13           13800  Central Bank:Free Balance   \n3            2023-03-13           13800  Central Bank:Free Balance   \n4            2023-03-13           13800  Central Bank:Free Balance   \n\n  Account type Sub-Account type Currency  Original Amount  \\\n0      Current          Current      EUR     0.000000e+00   \n1      Current          Current      KES     1.634972e+07   \n2      Current          Current      TZS     4.970977e+10   \n3      Current          Current      UGX     1.974799e+08   \n4      Current          Current      USD     1.028300e+07   \n\n   USD Equivalent Amount    TZS Amount Transaction Date Maturity Date  \\\n0           0.000000e+00  0.000000e+00       2023-03-13    2023-03-13   \n1           1.231819e+05  2.882456e+08       2023-03-13    2023-03-13   \n2           2.124349e+07  4.970977e+10       2023-03-13    2023-03-13   \n3           5.317776e+04  1.244360e+08       2023-03-13    2023-03-13   \n4           1.028300e+07  2.406222e+10       2023-03-13    2023-03-13   \n\n   Allowance for probable loss  BOT provision  Related Identification  \n0                            0              0                     NaN  \n1                            0              0                     NaN  \n2                            0              0                     NaN  \n3                            0              0                     NaN  \n4                            0              0                     NaN  ",
      "text/html": "<div>\n<style scoped>\n    .dataframe tbody tr th:only-of-type {\n        vertical-align: middle;\n    }\n\n    .dataframe tbody tr th {\n        vertical-align: top;\n    }\n\n    .dataframe thead th {\n        text-align: right;\n    }\n</style>\n<table border=\"1\" class=\"dataframe\">\n  <thead>\n    <tr style=\"text-align: right;\">\n      <th></th>\n      <th>Reporting date &amp; time</th>\n      <th>Account number</th>\n      <th>Account name</th>\n      <th>Account type</th>\n      <th>Sub-Account type</th>\n      <th>Currency</th>\n      <th>Original Amount</th>\n      <th>USD Equivalent Amount</th>\n      <th>TZS Amount</th>\n      <th>Transaction Date</th>\n      <th>Maturity Date</th>\n      <th>Allowance for probable loss</th>\n      <th>BOT provision</th>\n      <th>Related Identification</th>\n    </tr>\n  </thead>\n  <tbody>\n    <tr>\n      <th>0</th>\n      <td>2023-03-13</td>\n      <td>13800</td>\n      <td>Central Bank:Free Balance</td>\n      <td>Current</td>\n      <td>Current</td>\n      <td>EUR</td>\n      <td>0.000000e+00</td>\n      <td>0.000000e+00</td>\n      <td>0.000000e+00</td>\n      <td>2023-03-13</td>\n      <td>2023-03-13</td>\n      <td>0</td>\n      <td>0</td>\n      <td>NaN</td>\n    </tr>\n    <tr>\n      <th>1</th>\n      <td>2023-03-13</td>\n      <td>13800</td>\n      <td>Central Bank:Free Balance</td>\n      <td>Current</td>\n      <td>Current</td>\n      <td>KES</td>\n      <td>1.634972e+07</td>\n      <td>1.231819e+05</td>\n      <td>2.882456e+08</td>\n      <td>2023-03-13</td>\n      <td>2023-03-13</td>\n      <td>0</td>\n      <td>0</td>\n      <td>NaN</td>\n    </tr>\n    <tr>\n      <th>2</th>\n      <td>2023-03-13</td>\n      <td>13800</td>\n      <td>Central Bank:Free Balance</td>\n      <td>Current</td>\n      <td>Current</td>\n      <td>TZS</td>\n      <td>4.970977e+10</td>\n      <td>2.124349e+07</td>\n      <td>4.970977e+10</td>\n      <td>2023-03-13</td>\n      <td>2023-03-13</td>\n      <td>0</td>\n      <td>0</td>\n      <td>NaN</td>\n    </tr>\n    <tr>\n      <th>3</th>\n      <td>2023-03-13</td>\n      <td>13800</td>\n      <td>Central Bank:Free Balance</td>\n      <td>Current</td>\n      <td>Current</td>\n      <td>UGX</td>\n      <td>1.974799e+08</td>\n      <td>5.317776e+04</td>\n      <td>1.244360e+08</td>\n      <td>2023-03-13</td>\n      <td>2023-03-13</td>\n      <td>0</td>\n      <td>0</td>\n      <td>NaN</td>\n    </tr>\n    <tr>\n      <th>4</th>\n      <td>2023-03-13</td>\n      <td>13800</td>\n      <td>Central Bank:Free Balance</td>\n      <td>Current</td>\n      <td>Current</td>\n      <td>USD</td>\n      <td>1.028300e+07</td>\n      <td>1.028300e+07</td>\n      <td>2.406222e+10</td>\n      <td>2023-03-13</td>\n      <td>2023-03-13</td>\n      <td>0</td>\n      <td>0</td>\n      <td>NaN</td>\n    </tr>\n  </tbody>\n</table>\n</div>"
     },
     "execution_count": 2,
     "metadata": {},
     "output_type": "execute_result"
    }
   ],
   "source": [
    "import pandas as pd\n",
    "\n",
    "xls = pd.ExcelFile('data/bot.xlsx')\n",
    "df = pd.DataFrame(pd.read_excel(xls, 'Balance with BOT'))\n",
    "\n",
    "df.head()"
   ],
   "metadata": {
    "collapsed": false
   }
  },
  {
   "cell_type": "code",
   "execution_count": 20,
   "outputs": [
    {
     "ename": "AttributeError",
     "evalue": "'Series' object has no attribute 'merge'",
     "output_type": "error",
     "traceback": [
      "\u001B[1;31m---------------------------------------------------------------------------\u001B[0m",
      "\u001B[1;31mAttributeError\u001B[0m                            Traceback (most recent call last)",
      "Input \u001B[1;32mIn [20]\u001B[0m, in \u001B[0;36m<cell line: 14>\u001B[1;34m()\u001B[0m\n\u001B[0;32m      9\u001B[0m df33 \u001B[38;5;241m=\u001B[39m df3\u001B[38;5;241m.\u001B[39mname\u001B[38;5;241m.\u001B[39mstr\u001B[38;5;241m.\u001B[39msplit()\u001B[38;5;241m.\u001B[39mstr\u001B[38;5;241m.\u001B[39mget(\u001B[38;5;241m0\u001B[39m)\n\u001B[0;32m     11\u001B[0m \u001B[38;5;66;03m# len(df33.index)\u001B[39;00m\n\u001B[0;32m     12\u001B[0m \u001B[38;5;66;03m# df33\u001B[39;00m\n\u001B[1;32m---> 14\u001B[0m \u001B[43mdf22\u001B[49m\u001B[38;5;241;43m.\u001B[39;49m\u001B[43mmerge\u001B[49m(df11\u001B[38;5;241m.\u001B[39mdrop_duplicates(), on\u001B[38;5;241m=\u001B[39m[\u001B[38;5;124m'\u001B[39m\u001B[38;5;124mname\u001B[39m\u001B[38;5;124m'\u001B[39m,\u001B[38;5;124m'\u001B[39m\u001B[38;5;124mname\u001B[39m\u001B[38;5;124m'\u001B[39m],\n\u001B[0;32m     15\u001B[0m           how\u001B[38;5;241m=\u001B[39m\u001B[38;5;124m'\u001B[39m\u001B[38;5;124mleft\u001B[39m\u001B[38;5;124m'\u001B[39m, indicator\u001B[38;5;241m=\u001B[39m\u001B[38;5;28;01mTrue\u001B[39;00m)\n",
      "File \u001B[1;32m~\\Miniconda3\\envs\\data\\lib\\site-packages\\pandas\\core\\generic.py:5907\u001B[0m, in \u001B[0;36mNDFrame.__getattr__\u001B[1;34m(self, name)\u001B[0m\n\u001B[0;32m   5900\u001B[0m \u001B[38;5;28;01mif\u001B[39;00m (\n\u001B[0;32m   5901\u001B[0m     name \u001B[38;5;129;01mnot\u001B[39;00m \u001B[38;5;129;01min\u001B[39;00m \u001B[38;5;28mself\u001B[39m\u001B[38;5;241m.\u001B[39m_internal_names_set\n\u001B[0;32m   5902\u001B[0m     \u001B[38;5;129;01mand\u001B[39;00m name \u001B[38;5;129;01mnot\u001B[39;00m \u001B[38;5;129;01min\u001B[39;00m \u001B[38;5;28mself\u001B[39m\u001B[38;5;241m.\u001B[39m_metadata\n\u001B[0;32m   5903\u001B[0m     \u001B[38;5;129;01mand\u001B[39;00m name \u001B[38;5;129;01mnot\u001B[39;00m \u001B[38;5;129;01min\u001B[39;00m \u001B[38;5;28mself\u001B[39m\u001B[38;5;241m.\u001B[39m_accessors\n\u001B[0;32m   5904\u001B[0m     \u001B[38;5;129;01mand\u001B[39;00m \u001B[38;5;28mself\u001B[39m\u001B[38;5;241m.\u001B[39m_info_axis\u001B[38;5;241m.\u001B[39m_can_hold_identifiers_and_holds_name(name)\n\u001B[0;32m   5905\u001B[0m ):\n\u001B[0;32m   5906\u001B[0m     \u001B[38;5;28;01mreturn\u001B[39;00m \u001B[38;5;28mself\u001B[39m[name]\n\u001B[1;32m-> 5907\u001B[0m \u001B[38;5;28;01mreturn\u001B[39;00m \u001B[38;5;28;43mobject\u001B[39;49m\u001B[38;5;241;43m.\u001B[39;49m\u001B[38;5;21;43m__getattribute__\u001B[39;49m\u001B[43m(\u001B[49m\u001B[38;5;28;43mself\u001B[39;49m\u001B[43m,\u001B[49m\u001B[43m \u001B[49m\u001B[43mname\u001B[49m\u001B[43m)\u001B[49m\n",
      "\u001B[1;31mAttributeError\u001B[0m: 'Series' object has no attribute 'merge'"
     ]
    }
   ],
   "source": [
    "import pandas as pd\n",
    "\n",
    "df1 = pd.DataFrame(pd.read_excel('data/ss.xlsx'))\n",
    "df2 = pd.DataFrame(pd.read_excel('data/ssr.xlsx'))\n",
    "df3 = pd.DataFrame(pd.read_excel('data/sws.xlsx'))\n",
    "\n",
    "df11 = df1.name.str.split().str.get(0)\n",
    "df22 = df2.name.str.split().str.get(0)\n",
    "df33 = df3.name.str.split().str.get(0)\n",
    "\n",
    "# len(df33.index)\n",
    "# df33\n",
    "\n",
    "df22.merge(df11.drop_duplicates(), on=['name','name'],\n",
    "          how='left', indicator=True)"
   ],
   "metadata": {
    "collapsed": false
   }
  },
  {
   "cell_type": "code",
   "execution_count": 33,
   "outputs": [
    {
     "data": {
      "text/plain": "               name     _merge\n0          Adaptiva       both\n1             Adobe       both\n2             Alcor       both\n3               BCR       both\n4                CA       both\n...             ...        ...\n47589        Rapid7       both\n47590  Self-service  left_only\n47591         Teams       both\n47592       Trellix       both\n47593       Trellix       both\n\n[47594 rows x 2 columns]",
      "text/html": "<div>\n<style scoped>\n    .dataframe tbody tr th:only-of-type {\n        vertical-align: middle;\n    }\n\n    .dataframe tbody tr th {\n        vertical-align: top;\n    }\n\n    .dataframe thead th {\n        text-align: right;\n    }\n</style>\n<table border=\"1\" class=\"dataframe\">\n  <thead>\n    <tr style=\"text-align: right;\">\n      <th></th>\n      <th>name</th>\n      <th>_merge</th>\n    </tr>\n  </thead>\n  <tbody>\n    <tr>\n      <th>0</th>\n      <td>Adaptiva</td>\n      <td>both</td>\n    </tr>\n    <tr>\n      <th>1</th>\n      <td>Adobe</td>\n      <td>both</td>\n    </tr>\n    <tr>\n      <th>2</th>\n      <td>Alcor</td>\n      <td>both</td>\n    </tr>\n    <tr>\n      <th>3</th>\n      <td>BCR</td>\n      <td>both</td>\n    </tr>\n    <tr>\n      <th>4</th>\n      <td>CA</td>\n      <td>both</td>\n    </tr>\n    <tr>\n      <th>...</th>\n      <td>...</td>\n      <td>...</td>\n    </tr>\n    <tr>\n      <th>47589</th>\n      <td>Rapid7</td>\n      <td>both</td>\n    </tr>\n    <tr>\n      <th>47590</th>\n      <td>Self-service</td>\n      <td>left_only</td>\n    </tr>\n    <tr>\n      <th>47591</th>\n      <td>Teams</td>\n      <td>both</td>\n    </tr>\n    <tr>\n      <th>47592</th>\n      <td>Trellix</td>\n      <td>both</td>\n    </tr>\n    <tr>\n      <th>47593</th>\n      <td>Trellix</td>\n      <td>both</td>\n    </tr>\n  </tbody>\n</table>\n<p>47594 rows × 2 columns</p>\n</div>"
     },
     "execution_count": 33,
     "metadata": {},
     "output_type": "execute_result"
    }
   ],
   "source": [
    "import pandas as pd\n",
    "\n",
    "df1 = pd.DataFrame(pd.read_excel('data/ss_r.xlsx'))\n",
    "df2 = pd.DataFrame(pd.read_excel('data/ssr_r.xlsx'))\n",
    "df3 = pd.DataFrame(pd.read_excel('data/sws_r.xlsx'))\n",
    "\n",
    "df3.merge(df1.drop_duplicates(), on=['name','name'],\n",
    "           how='left', indicator=True)\n",
    "\n",
    "# df3"
   ],
   "metadata": {
    "collapsed": false
   }
  },
  {
   "cell_type": "code",
   "execution_count": null,
   "outputs": [],
   "source": [],
   "metadata": {
    "collapsed": false
   }
  }
 ],
 "metadata": {
  "kernelspec": {
   "display_name": "Python 3",
   "language": "python",
   "name": "python3"
  },
  "language_info": {
   "codemirror_mode": {
    "name": "ipython",
    "version": 2
   },
   "file_extension": ".py",
   "mimetype": "text/x-python",
   "name": "python",
   "nbconvert_exporter": "python",
   "pygments_lexer": "ipython2",
   "version": "2.7.6"
  }
 },
 "nbformat": 4,
 "nbformat_minor": 0
}
