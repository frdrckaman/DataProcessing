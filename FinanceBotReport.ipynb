{
 "cells": [
  {
   "cell_type": "code",
   "execution_count": 6,
   "metadata": {
    "collapsed": true
   },
   "outputs": [],
   "source": [
    "from sqlalchemy.engine import URL\n",
    "from sqlalchemy import create_engine\n",
    "import pandas as pd\n",
    "from datetime import datetime\n",
    "\n",
    "username='clusterInstaller'\n",
    "password='clusterInstaller'\n",
    "database='RSVRPTZ3FINANCE'\n",
    "port='1433'\n",
    "TDS_Version='8.0'\n",
    "server='10.231.33.102'\n",
    "driver='FreeTDS'"
   ]
  },
  {
   "cell_type": "code",
   "execution_count": 7,
   "outputs": [],
   "source": [
    "connection_string = 'DRIVER={ODBC Driver 18 for SQL Server};SERVER='+server+';DATABASE='+database+';ENCRYPT=yes;TrustServerCertificate=Yes;UID='+username+';PWD='+ password\n",
    "connection_url = URL.create(\"mssql+pyodbc\", query={\"odbc_connect\": connection_string})\n",
    "\n",
    "engine = create_engine(connection_url)"
   ],
   "metadata": {
    "collapsed": false
   }
  },
  {
   "cell_type": "code",
   "execution_count": 9,
   "outputs": [
    {
     "data": {
      "text/plain": "-1"
     },
     "execution_count": 9,
     "metadata": {},
     "output_type": "execute_result"
    }
   ],
   "source": [
    "xls = pd.ExcelFile('data/bot.xlsx')\n",
    "df = pd.DataFrame(pd.read_excel(xls, 'Balance with BOT'))\n",
    "\n",
    "# rename the existing DataFrame\n",
    "# df.rename(columns={'oldName1': 'newName1', 'oldName2': 'newName2'}, inplace=True)\n",
    "# rename the creating a copy\n",
    "# df = df.rename(columns={'oldName1': 'newName1', 'oldName2': 'newName2'})\n",
    "\n",
    "df = df.rename(\n",
    "    columns={\n",
    "        'Reporting date & time': 'reportingDate',\n",
    "        'Account number': 'accountNumber',\n",
    "        'Account name': 'accountName',\n",
    "        'Account type': 'accountType',\n",
    "        'Sub-Account type': 'subAccountType',\n",
    "        'Currency': 'currency',\n",
    "        'Original Amount': 'orgAmount',\n",
    "        'USD Equivalent Amount': 'usdAmount',\n",
    "        'TZS Amount': 'tzsAmount',\n",
    "        'Transaction Date': 'transactionDate',\n",
    "        'Maturity Date': 'maturityDate',\n",
    "        'Allowance for probable loss': 'allowanceProbableLoss',\n",
    "        'BOT provision': 'botProvision',\n",
    "        'Related Identification': 'relatedId'\n",
    "    })\n",
    "\n",
    "df.head(100)\n",
    "# df['orgAmount']\n",
    "df.to_sql('balancewithbot', engine, schema=\"PTZFINANCE\", if_exists='append', index=False)"
   ],
   "metadata": {
    "collapsed": false
   }
  },
  {
   "cell_type": "code",
   "execution_count": null,
   "outputs": [],
   "source": [],
   "metadata": {
    "collapsed": false
   }
  }
 ],
 "metadata": {
  "kernelspec": {
   "display_name": "Python 3",
   "language": "python",
   "name": "python3"
  },
  "language_info": {
   "codemirror_mode": {
    "name": "ipython",
    "version": 2
   },
   "file_extension": ".py",
   "mimetype": "text/x-python",
   "name": "python",
   "nbconvert_exporter": "python",
   "pygments_lexer": "ipython2",
   "version": "2.7.6"
  }
 },
 "nbformat": 4,
 "nbformat_minor": 0
}
