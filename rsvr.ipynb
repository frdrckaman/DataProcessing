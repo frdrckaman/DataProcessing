{
 "cells": [
  {
   "cell_type": "code",
   "execution_count": 1,
   "metadata": {
    "collapsed": true
   },
   "outputs": [],
   "source": [
    "import pyodbc\n",
    "import pandas as pd\n",
    "username='clusterInstaller'\n",
    "password='clusterInstaller'\n",
    "database='RSVRRealtimeFinacleTZ'\n",
    "port='1433'\n",
    "TDS_Version='8.0'\n",
    "# server='localhost\\SQLSERVER2019'\n",
    "server='10.231.33.102'\n",
    "driver='FreeTDS'"
   ]
  },
  {
   "cell_type": "code",
   "execution_count": 2,
   "outputs": [],
   "source": [
    "conn = pyodbc.connect('DRIVER={ODBC Driver 18 for SQL Server};SERVER='+server+';DATABASE='+database+';ENCRYPT=yes;TrustServerCertificate=Yes;UID='+username+';PWD='+ password)\n",
    "cursor = conn.cursor()"
   ],
   "metadata": {
    "collapsed": false
   }
  },
  {
   "cell_type": "code",
   "execution_count": 5,
   "outputs": [
    {
     "name": "stderr",
     "output_type": "stream",
     "text": [
      "C:\\Users\\A248080\\AppData\\Local\\Temp\\1\\ipykernel_19564\\4240880371.py:4: UserWarning: pandas only supports SQLAlchemy connectable (engine/connection) or database string URI or sqlite3 DBAPI2 connection. Other DBAPI2 objects are not tested. Please consider using SQLAlchemy.\n",
      "  df = pd.read_sql(qry, conn)\n"
     ]
    },
    {
     "data": {
      "text/plain": "   account_number CUSTOMER_NUMBER                 acct_name   cust_dob  \\\n0   9120001631886     11200103083             MISHOSHO EDDA 1988-09-15   \n1   9120001616747     11200095310   NANDNI AMIT & KAJAL ITF 1920-01-01   \n2   9120001004199     11200056078    MAKUNDI,PROSPER HERMAN 1987-01-07   \n3   9120001405967     11200103146            MAYENGA MHINDI 1985-05-22   \n4   9120000698871     11200012027       SION LEKASHU LAISER 1966-02-01   \n..            ...             ...                       ...        ...   \n95  9120000808375     11200007892                 CASPERSEN 1960-01-01   \n96  9120000229367     11200126013           ISAAC   STEPHEN 1982-10-19   \n97  9120000070295     11200050779         AIKUNDASIA MASAMU 1949-02-10   \n98  9120000394309     11200133343  DEOGRATIUS THOMAS KIWALE 1986-02-11   \n99  9120000488214     11200135051                ROSE OISSO 1990-08-26   \n\n   SALES_CODE portifolio_code WPB_Flag segment_description acct_crncy_code  \\\n0        None           UPB14        N              SILVER             TZS   \n1       NOTAP           UPB13        N              SILVER             TZS   \n2        None           UPB13        N              SILVER             USD   \n3        None           UPB02        Y              SILVER             USD   \n4       NOTAP           UPB05        Y              SILVER             TZS   \n..        ...             ...      ...                 ...             ...   \n95      NOTAP           UPB05        N              SILVER             USD   \n96       None           UPB06        Y              SILVER             TZS   \n97       None           UPB11        N              SILVER             TZS   \n98      NOTAP           UPB06        N              SILVER             USD   \n99       None           UPB11        N              SILVER             USD   \n\n   extract_date  ...   cal_branch_name schm_type  SCHM_CODE acct_status  \\\n0     16/Jan/23  ...     CENTRE BRANCH       SBA      SB001           A   \n1     16/Jan/23  ...  PENINSULA BRANCH       SBA      SB001           A   \n2     16/Jan/23  ...  PENINSULA BRANCH       SBA      SB001           A   \n3     16/Jan/23  ...       MAIN BRANCH       SBA      SB001           A   \n4     16/Jan/23  ...     ARUSHA BRANCH       SBA      SB001           A   \n..          ...  ...               ...       ...        ...         ...   \n95    16/Jan/23  ...     ARUSHA BRANCH       SBA      SB001           A   \n96    16/Jan/23  ...     ARUSHA BRANCH       SBA      SB001           I   \n97    16/Jan/23  ...      MOSHI BRANCH       SBA      SB001           A   \n98    16/Jan/23  ...     ARUSHA BRANCH       SBA      SB001           A   \n99    16/Jan/23  ...      MOSHI BRANCH       SBA      SB001           A   \n\n   re_cal_status        CIF_CREATION  manager           emp_name  \\\n0              A 2013-07-19 23:57:54  A173291       MBONI MAGAWA   \n1              D 2013-07-19 23:58:09  A173291       MBONI MAGAWA   \n2              A 2013-07-19 23:55:05  A173291       MBONI MAGAWA   \n3              A 2013-07-19 23:57:57  A194651  MWAFRIKA MWANGOSI   \n4              D 2013-07-19 23:56:26  A201280   FRANCIS AGOSTINE   \n..           ...                 ...      ...                ...   \n95             A 2013-07-19 23:57:16  A173435       ARNOLD MOSHI   \n96             D 2013-07-19 23:57:01  A182554      BEATRICE SHOO   \n97             I 2013-07-19 23:57:04  A173331      SERGI SHIRIMA   \n98             A 2014-08-19 08:37:54  A195547        Peter Mushi   \n99             A 2014-12-23 13:34:55  A182554      BEATRICE SHOO   \n\n               PHONENO EMAIL  \n0   +255(000)717019346  None  \n1   +255(000)754600075  None  \n2   +255(000)713211119  None  \n3   +255(000)714826611  None  \n4   +255(000)784939432  None  \n..                 ...   ...  \n95  +255(000)782402887  None  \n96  +255(000)787952945  None  \n97  +255(000)755786467  None  \n98  +255(000)767452289  None  \n99  +255(000)752787988  None  \n\n[100 rows x 24 columns]",
      "text/html": "<div>\n<style scoped>\n    .dataframe tbody tr th:only-of-type {\n        vertical-align: middle;\n    }\n\n    .dataframe tbody tr th {\n        vertical-align: top;\n    }\n\n    .dataframe thead th {\n        text-align: right;\n    }\n</style>\n<table border=\"1\" class=\"dataframe\">\n  <thead>\n    <tr style=\"text-align: right;\">\n      <th></th>\n      <th>account_number</th>\n      <th>CUSTOMER_NUMBER</th>\n      <th>acct_name</th>\n      <th>cust_dob</th>\n      <th>SALES_CODE</th>\n      <th>portifolio_code</th>\n      <th>WPB_Flag</th>\n      <th>segment_description</th>\n      <th>acct_crncy_code</th>\n      <th>extract_date</th>\n      <th>...</th>\n      <th>cal_branch_name</th>\n      <th>schm_type</th>\n      <th>SCHM_CODE</th>\n      <th>acct_status</th>\n      <th>re_cal_status</th>\n      <th>CIF_CREATION</th>\n      <th>manager</th>\n      <th>emp_name</th>\n      <th>PHONENO</th>\n      <th>EMAIL</th>\n    </tr>\n  </thead>\n  <tbody>\n    <tr>\n      <th>0</th>\n      <td>9120001631886</td>\n      <td>11200103083</td>\n      <td>MISHOSHO EDDA</td>\n      <td>1988-09-15</td>\n      <td>None</td>\n      <td>UPB14</td>\n      <td>N</td>\n      <td>SILVER</td>\n      <td>TZS</td>\n      <td>16/Jan/23</td>\n      <td>...</td>\n      <td>CENTRE BRANCH</td>\n      <td>SBA</td>\n      <td>SB001</td>\n      <td>A</td>\n      <td>A</td>\n      <td>2013-07-19 23:57:54</td>\n      <td>A173291</td>\n      <td>MBONI MAGAWA</td>\n      <td>+255(000)717019346</td>\n      <td>None</td>\n    </tr>\n    <tr>\n      <th>1</th>\n      <td>9120001616747</td>\n      <td>11200095310</td>\n      <td>NANDNI AMIT &amp; KAJAL ITF</td>\n      <td>1920-01-01</td>\n      <td>NOTAP</td>\n      <td>UPB13</td>\n      <td>N</td>\n      <td>SILVER</td>\n      <td>TZS</td>\n      <td>16/Jan/23</td>\n      <td>...</td>\n      <td>PENINSULA BRANCH</td>\n      <td>SBA</td>\n      <td>SB001</td>\n      <td>A</td>\n      <td>D</td>\n      <td>2013-07-19 23:58:09</td>\n      <td>A173291</td>\n      <td>MBONI MAGAWA</td>\n      <td>+255(000)754600075</td>\n      <td>None</td>\n    </tr>\n    <tr>\n      <th>2</th>\n      <td>9120001004199</td>\n      <td>11200056078</td>\n      <td>MAKUNDI,PROSPER HERMAN</td>\n      <td>1987-01-07</td>\n      <td>None</td>\n      <td>UPB13</td>\n      <td>N</td>\n      <td>SILVER</td>\n      <td>USD</td>\n      <td>16/Jan/23</td>\n      <td>...</td>\n      <td>PENINSULA BRANCH</td>\n      <td>SBA</td>\n      <td>SB001</td>\n      <td>A</td>\n      <td>A</td>\n      <td>2013-07-19 23:55:05</td>\n      <td>A173291</td>\n      <td>MBONI MAGAWA</td>\n      <td>+255(000)713211119</td>\n      <td>None</td>\n    </tr>\n    <tr>\n      <th>3</th>\n      <td>9120001405967</td>\n      <td>11200103146</td>\n      <td>MAYENGA MHINDI</td>\n      <td>1985-05-22</td>\n      <td>None</td>\n      <td>UPB02</td>\n      <td>Y</td>\n      <td>SILVER</td>\n      <td>USD</td>\n      <td>16/Jan/23</td>\n      <td>...</td>\n      <td>MAIN BRANCH</td>\n      <td>SBA</td>\n      <td>SB001</td>\n      <td>A</td>\n      <td>A</td>\n      <td>2013-07-19 23:57:57</td>\n      <td>A194651</td>\n      <td>MWAFRIKA MWANGOSI</td>\n      <td>+255(000)714826611</td>\n      <td>None</td>\n    </tr>\n    <tr>\n      <th>4</th>\n      <td>9120000698871</td>\n      <td>11200012027</td>\n      <td>SION LEKASHU LAISER</td>\n      <td>1966-02-01</td>\n      <td>NOTAP</td>\n      <td>UPB05</td>\n      <td>Y</td>\n      <td>SILVER</td>\n      <td>TZS</td>\n      <td>16/Jan/23</td>\n      <td>...</td>\n      <td>ARUSHA BRANCH</td>\n      <td>SBA</td>\n      <td>SB001</td>\n      <td>A</td>\n      <td>D</td>\n      <td>2013-07-19 23:56:26</td>\n      <td>A201280</td>\n      <td>FRANCIS AGOSTINE</td>\n      <td>+255(000)784939432</td>\n      <td>None</td>\n    </tr>\n    <tr>\n      <th>...</th>\n      <td>...</td>\n      <td>...</td>\n      <td>...</td>\n      <td>...</td>\n      <td>...</td>\n      <td>...</td>\n      <td>...</td>\n      <td>...</td>\n      <td>...</td>\n      <td>...</td>\n      <td>...</td>\n      <td>...</td>\n      <td>...</td>\n      <td>...</td>\n      <td>...</td>\n      <td>...</td>\n      <td>...</td>\n      <td>...</td>\n      <td>...</td>\n      <td>...</td>\n      <td>...</td>\n    </tr>\n    <tr>\n      <th>95</th>\n      <td>9120000808375</td>\n      <td>11200007892</td>\n      <td>CASPERSEN</td>\n      <td>1960-01-01</td>\n      <td>NOTAP</td>\n      <td>UPB05</td>\n      <td>N</td>\n      <td>SILVER</td>\n      <td>USD</td>\n      <td>16/Jan/23</td>\n      <td>...</td>\n      <td>ARUSHA BRANCH</td>\n      <td>SBA</td>\n      <td>SB001</td>\n      <td>A</td>\n      <td>A</td>\n      <td>2013-07-19 23:57:16</td>\n      <td>A173435</td>\n      <td>ARNOLD MOSHI</td>\n      <td>+255(000)782402887</td>\n      <td>None</td>\n    </tr>\n    <tr>\n      <th>96</th>\n      <td>9120000229367</td>\n      <td>11200126013</td>\n      <td>ISAAC   STEPHEN</td>\n      <td>1982-10-19</td>\n      <td>None</td>\n      <td>UPB06</td>\n      <td>Y</td>\n      <td>SILVER</td>\n      <td>TZS</td>\n      <td>16/Jan/23</td>\n      <td>...</td>\n      <td>ARUSHA BRANCH</td>\n      <td>SBA</td>\n      <td>SB001</td>\n      <td>I</td>\n      <td>D</td>\n      <td>2013-07-19 23:57:01</td>\n      <td>A182554</td>\n      <td>BEATRICE SHOO</td>\n      <td>+255(000)787952945</td>\n      <td>None</td>\n    </tr>\n    <tr>\n      <th>97</th>\n      <td>9120000070295</td>\n      <td>11200050779</td>\n      <td>AIKUNDASIA MASAMU</td>\n      <td>1949-02-10</td>\n      <td>None</td>\n      <td>UPB11</td>\n      <td>N</td>\n      <td>SILVER</td>\n      <td>TZS</td>\n      <td>16/Jan/23</td>\n      <td>...</td>\n      <td>MOSHI BRANCH</td>\n      <td>SBA</td>\n      <td>SB001</td>\n      <td>A</td>\n      <td>I</td>\n      <td>2013-07-19 23:57:04</td>\n      <td>A173331</td>\n      <td>SERGI SHIRIMA</td>\n      <td>+255(000)755786467</td>\n      <td>None</td>\n    </tr>\n    <tr>\n      <th>98</th>\n      <td>9120000394309</td>\n      <td>11200133343</td>\n      <td>DEOGRATIUS THOMAS KIWALE</td>\n      <td>1986-02-11</td>\n      <td>NOTAP</td>\n      <td>UPB06</td>\n      <td>N</td>\n      <td>SILVER</td>\n      <td>USD</td>\n      <td>16/Jan/23</td>\n      <td>...</td>\n      <td>ARUSHA BRANCH</td>\n      <td>SBA</td>\n      <td>SB001</td>\n      <td>A</td>\n      <td>A</td>\n      <td>2014-08-19 08:37:54</td>\n      <td>A195547</td>\n      <td>Peter Mushi</td>\n      <td>+255(000)767452289</td>\n      <td>None</td>\n    </tr>\n    <tr>\n      <th>99</th>\n      <td>9120000488214</td>\n      <td>11200135051</td>\n      <td>ROSE OISSO</td>\n      <td>1990-08-26</td>\n      <td>None</td>\n      <td>UPB11</td>\n      <td>N</td>\n      <td>SILVER</td>\n      <td>USD</td>\n      <td>16/Jan/23</td>\n      <td>...</td>\n      <td>MOSHI BRANCH</td>\n      <td>SBA</td>\n      <td>SB001</td>\n      <td>A</td>\n      <td>A</td>\n      <td>2014-12-23 13:34:55</td>\n      <td>A182554</td>\n      <td>BEATRICE SHOO</td>\n      <td>+255(000)752787988</td>\n      <td>None</td>\n    </tr>\n  </tbody>\n</table>\n<p>100 rows × 24 columns</p>\n</div>"
     },
     "execution_count": 5,
     "metadata": {},
     "output_type": "execute_result"
    }
   ],
   "source": [
    "qry = \"SELECT * FROM PTZFIN.vwCuratedTZACustomerAccountMasterListImpl\"\n",
    "# rs = cursor.execute(qry)\n",
    "\n",
    "df = pd.read_sql(qry, conn)\n",
    "\n",
    "df.head(100)\n",
    "\n",
    "\n",
    "# result = pd.read_sql(qry, conn)\n",
    "#\n",
    "# result.head()"
   ],
   "metadata": {
    "collapsed": false
   }
  },
  {
   "cell_type": "code",
   "execution_count": null,
   "outputs": [],
   "source": [],
   "metadata": {
    "collapsed": false
   }
  }
 ],
 "metadata": {
  "kernelspec": {
   "display_name": "Python 3",
   "language": "python",
   "name": "python3"
  },
  "language_info": {
   "codemirror_mode": {
    "name": "ipython",
    "version": 2
   },
   "file_extension": ".py",
   "mimetype": "text/x-python",
   "name": "python",
   "nbconvert_exporter": "python",
   "pygments_lexer": "ipython2",
   "version": "2.7.6"
  }
 },
 "nbformat": 4,
 "nbformat_minor": 0
}
