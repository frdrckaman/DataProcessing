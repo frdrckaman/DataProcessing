{
 "cells": [
  {
   "cell_type": "code",
   "execution_count": 124,
   "outputs": [
    {
     "name": "stdout",
     "output_type": "stream",
     "text": [
      "['\\x1b[', 'FINRPT-finlstclnt']\n",
      "FINRPT-finlstclnt\n"
     ]
    }
   ],
   "source": [
    "i = 0\n",
    "my_list = []\n",
    "with open('finservices.txt', 'r') as file:\n",
    "    for line in file.readlines():\n",
    "        my_list.append(line.replace(\" \", \"\"))\n",
    "        # print(line.replace(\" \", \"\"))\n",
    "\n",
    "    # print(my_list[25])\n",
    "\n",
    "    # service start from 4-25\n",
    "    # get title date-time\n",
    "    # fin = my_list[2].split('|')\n",
    "    # fin1 = fin[1].replace('FinacleServicesAdministration','')\n",
    "    # day = fin1[:3]\n",
    "    # month = fin1[3:6]\n",
    "    # dt = fin1[6:8]\n",
    "    # tm = fin1[8:16]\n",
    "    # tmZ = fin1[16:19]\n",
    "    # year = fin1[19:]\n",
    "\n",
    "    # get status UP/DOWN\n",
    "    fr = my_list[8].split('|')\n",
    "    fr1 = fr[3].split(';')\n",
    "    fr2 = fr1[1].replace('1m', '')\n",
    "\n",
    "    frd = my_list[5].split('|')\n",
    "    print(frd[1].split('1m'))\n",
    "    frd1 = frd[1].split('1m')\n",
    "    print(frd1[1])\n",
    "    # frd2 = fr1[1].replace('1m', '')"
   ],
   "metadata": {
    "collapsed": false
   }
  },
  {
   "cell_type": "code",
   "execution_count": 114,
   "outputs": [],
   "source": [
    "def read_log_file():\n",
    "    filename = 'finservices.txt'\n",
    "    file_list = []\n",
    "    with open(filename, 'r') as file:\n",
    "        for file_line in file.readlines():\n",
    "            file_list.append(file_line.replace(\" \", \"\"))\n",
    "    return file_list"
   ],
   "metadata": {
    "collapsed": false
   }
  },
  {
   "cell_type": "code",
   "execution_count": 108,
   "outputs": [],
   "source": [
    "def service_title():\n",
    "    return 'Finacle Services Administration'"
   ],
   "metadata": {
    "collapsed": false
   }
  },
  {
   "cell_type": "code",
   "execution_count": 109,
   "outputs": [],
   "source": [
    "def service_status_time():\n",
    "     service_log = read_log_file()[2].split('|')\n",
    "     return service_log.replace('FinacleServicesAdministration','')"
   ],
   "metadata": {
    "collapsed": false
   }
  },
  {
   "cell_type": "code",
   "execution_count": 110,
   "outputs": [],
   "source": [
    "def show_service_time():\n",
    "    service_status = service_status_time()\n",
    "    return f'{service_status[:3]} {service_status[3:6]} {service_status[6:8]} {service_status[8:16]} {service_status[16:19]} {service_status[19:]}'"
   ],
   "metadata": {
    "collapsed": false
   }
  },
  {
   "cell_type": "code",
   "execution_count": 111,
   "outputs": [
    {
     "ename": "AttributeError",
     "evalue": "'list' object has no attribute 'replace'",
     "output_type": "error",
     "traceback": [
      "\u001B[1;31m---------------------------------------------------------------------------\u001B[0m",
      "\u001B[1;31mAttributeError\u001B[0m                            Traceback (most recent call last)",
      "Input \u001B[1;32mIn [111]\u001B[0m, in \u001B[0;36m<cell line: 1>\u001B[1;34m()\u001B[0m\n\u001B[1;32m----> 1\u001B[0m \u001B[43mshow_service_time\u001B[49m\u001B[43m(\u001B[49m\u001B[43m)\u001B[49m\n",
      "Input \u001B[1;32mIn [110]\u001B[0m, in \u001B[0;36mshow_service_time\u001B[1;34m()\u001B[0m\n\u001B[0;32m      1\u001B[0m \u001B[38;5;28;01mdef\u001B[39;00m \u001B[38;5;21mshow_service_time\u001B[39m():\n\u001B[1;32m----> 2\u001B[0m     service_status \u001B[38;5;241m=\u001B[39m \u001B[43mservice_status_time\u001B[49m\u001B[43m(\u001B[49m\u001B[43m)\u001B[49m\n\u001B[0;32m      3\u001B[0m     \u001B[38;5;28;01mreturn\u001B[39;00m \u001B[38;5;124mf\u001B[39m\u001B[38;5;124m'\u001B[39m\u001B[38;5;132;01m{\u001B[39;00mservice_status[:\u001B[38;5;241m3\u001B[39m]\u001B[38;5;132;01m}\u001B[39;00m\u001B[38;5;124m \u001B[39m\u001B[38;5;132;01m{\u001B[39;00mservice_status[\u001B[38;5;241m3\u001B[39m:\u001B[38;5;241m6\u001B[39m]\u001B[38;5;132;01m}\u001B[39;00m\u001B[38;5;124m \u001B[39m\u001B[38;5;132;01m{\u001B[39;00mservice_status[\u001B[38;5;241m6\u001B[39m:\u001B[38;5;241m8\u001B[39m]\u001B[38;5;132;01m}\u001B[39;00m\u001B[38;5;124m \u001B[39m\u001B[38;5;132;01m{\u001B[39;00mservice_status[\u001B[38;5;241m8\u001B[39m:\u001B[38;5;241m16\u001B[39m]\u001B[38;5;132;01m}\u001B[39;00m\u001B[38;5;124m \u001B[39m\u001B[38;5;132;01m{\u001B[39;00mservice_status[\u001B[38;5;241m16\u001B[39m:\u001B[38;5;241m19\u001B[39m]\u001B[38;5;132;01m}\u001B[39;00m\u001B[38;5;124m \u001B[39m\u001B[38;5;132;01m{\u001B[39;00mservice_status[\u001B[38;5;241m19\u001B[39m:]\u001B[38;5;132;01m}\u001B[39;00m\u001B[38;5;124m'\u001B[39m\n",
      "Input \u001B[1;32mIn [109]\u001B[0m, in \u001B[0;36mservice_status_time\u001B[1;34m()\u001B[0m\n\u001B[0;32m      1\u001B[0m \u001B[38;5;28;01mdef\u001B[39;00m \u001B[38;5;21mservice_status_time\u001B[39m():\n\u001B[0;32m      2\u001B[0m      service_log \u001B[38;5;241m=\u001B[39m read_log_file()[\u001B[38;5;241m2\u001B[39m]\u001B[38;5;241m.\u001B[39msplit(\u001B[38;5;124m'\u001B[39m\u001B[38;5;124m|\u001B[39m\u001B[38;5;124m'\u001B[39m)\n\u001B[1;32m----> 3\u001B[0m      \u001B[38;5;28;01mreturn\u001B[39;00m \u001B[43mservice_log\u001B[49m\u001B[38;5;241;43m.\u001B[39;49m\u001B[43mreplace\u001B[49m(\u001B[38;5;124m'\u001B[39m\u001B[38;5;124mFinacleServicesAdministration\u001B[39m\u001B[38;5;124m'\u001B[39m,\u001B[38;5;124m'\u001B[39m\u001B[38;5;124m'\u001B[39m)\n",
      "\u001B[1;31mAttributeError\u001B[0m: 'list' object has no attribute 'replace'"
     ]
    }
   ],
   "source": [
    "show_service_time()"
   ],
   "metadata": {
    "collapsed": false
   }
  },
  {
   "cell_type": "code",
   "execution_count": 14,
   "outputs": [],
   "source": [
    "import pyodbc"
   ],
   "metadata": {
    "collapsed": false
   }
  },
  {
   "cell_type": "code",
   "execution_count": 22,
   "outputs": [],
   "source": [
    "import pyodbc\n",
    "username='datascience'\n",
    "password='datascience'\n",
    "database='DATASCIENCE'\n",
    "port='1433'\n",
    "TDS_Version='8.0'\n",
    "# server='localhost\\SQLSERVER2019'\n",
    "server='10.231.145.187\\SQLEXPRESS'\n",
    "driver='FreeTDS'\n",
    "\n",
    "conn = pyodbc.connect('DRIVER={ODBC Driver 18 for SQL Server};SERVER='+server+';DATABASE='+database+';ENCRYPT=yes;TrustServerCertificate=Yes;UID='+username+';PWD='+ password)\n",
    "cursor = conn.cursor()\n",
    "\n",
    "\n",
    "qry = \"INSERT INTO EntrenchmentScoresFinal(COUNTRY ,CUSTOMER_NUMBER,CUSTOMER_NAME,STARTDATE,PORTIFOLIO_CODE,REPORTINGMONTH,CurrentAccount,FixedDeposit,Mortgage,SavingsAccount,TermLoan,VAF,Digital,Cr0,Cr1to2,Cr3to5,Cr6andabove,Dr0,Dr1to3,Dr4to11,Dr12to18,Dr19to31,Dr32Andabove,IncomeBelow5M,Incomeabove5Mto12M,Incomeabove12M,EMP_NAME,EMP_FLAG,CurrentAccountScore,FixedDepositScore,MortgageScore,SavingsAccountScore,TermLoanScore,VAFScore,DigitalScore,Cr0Score,Cr1to2Score,Cr3to5Score,Cr6andaboveScore,Dr0Score,Dr1to3Score,Dr4to11Score,Dr12to18Score,Dr19to31Score,Dr32andaboveScore,IncomeBelow5MScore,Incomeabove5Mto12MScore,Incomeabove12MScore,EntrenchmentScore,EntrenchmentLevel) VALUES ('TZ','11200000409','MATARO EMMANUEL','2009/04/15','PB06','22-Jul',0,0,0,1,0,0,0,0,0,1,0,0,1,0,0,0,0,0,0,1,'SELF EMPLOYED','PVT',0,0,0,4,0,0,0,0,0,8,0,0,2,0,0,0,0,0,0,10,24,'Medium')\" \\\n",
    "      \"('TZ','11200000494','LAMECK MUSSA KIRONGORI','2010/02/24','PB06','22-Jul',1,0,0,1,0,0,1,0,1,0,0,0,0,0,0,0,1,1,0,0,'SF GROUP OF COMPANIES LTD','PVT',0,0,0,4,0,0,5,0,6,0,0,0,0,0,0,0,10,0,0,0,25,'Medium')\" \\\n",
    "      \"('TZ','11200000949','YUDIKA ELIA MREMI','1997/10/02','PB10','22-Jul',1,0,0,0,0,0,0,1,0,0,0,1,0,0,0,0,0,1,0,0,'SELF EMPLOYED','PVT',0,0,0,0,0,0,0,0,0,0,0,0,0,0,0,0,0,0,0,0,0,'Low')\"\n",
    "\n",
    "cursor.execute(qry)\n",
    "cursor.commit()"
   ],
   "metadata": {
    "collapsed": false
   }
  },
  {
   "cell_type": "code",
   "execution_count": 1,
   "outputs": [],
   "source": [
    "from PIL import Image\n",
    "img = Image.open('Ritchie.jpg').convert('L')\n",
    "img.save('richie.png')"
   ],
   "metadata": {
    "collapsed": false
   }
  },
  {
   "cell_type": "code",
   "execution_count": null,
   "outputs": [],
   "source": [],
   "metadata": {
    "collapsed": false
   }
  }
 ],
 "metadata": {
  "kernelspec": {
   "display_name": "Python 3",
   "language": "python",
   "name": "python3"
  },
  "language_info": {
   "codemirror_mode": {
    "name": "ipython",
    "version": 2
   },
   "file_extension": ".py",
   "mimetype": "text/x-python",
   "name": "python",
   "nbconvert_exporter": "python",
   "pygments_lexer": "ipython2",
   "version": "2.7.6"
  }
 },
 "nbformat": 4,
 "nbformat_minor": 0
}
