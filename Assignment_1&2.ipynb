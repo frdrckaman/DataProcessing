{
 "nbformat": 4,
 "nbformat_minor": 0,
 "metadata": {
  "colab": {
   "provenance": []
  },
  "kernelspec": {
   "name": "python3",
   "language": "python",
   "display_name": "Python 3 (ipykernel)"
  },
  "language_info": {
   "name": "python"
  }
 },
 "cells": [
  {
   "cell_type": "code",
   "source": [
    "import nltk\n",
    "nltk.download('vader_lexicon')\n",
    "import numpy as np\n",
    "import pandas as pd\n",
    "import re\n",
    "from sklearn.model_selection import train_test_split\n",
    "import nltk\n",
    "# Download VADER lexicon\n",
    "nltk.download('vader_lexicon')\n",
    "from nltk.corpus import stopwords\n",
    "from nltk.stem import SnowballStemmer\n",
    "from nltk.tokenize import word_tokenize\n",
    "from keras.preprocessing.text import Tokenizer\n",
    "from keras_preprocessing.sequence import pad_sequences\n",
    "from keras.models import Sequential\n",
    "from keras.layers import Embedding, GRU\n",
    "from keras.callbacks import EarlyStopping\n",
    "import gensim.downloader as api\n",
    "from sklearn.metrics import accuracy_score, precision_score, recall_score, f1_score, classification_report\n",
    "from keras.layers import SpatialDropout1D, LSTM, Dense\n",
    "from keras.utils import to_categorical\n",
    "from sklearn.preprocessing import LabelEncoder\n",
    "\n",
    "# i. Get tweets dataset.\n",
    "url = \"https://raw.githubusercontent.com/deepakmoud/datasets-for-experiment/main/filename%202.csv\"\n",
    "df = pd.read_csv(url)\n",
    "\n",
    "# ii. Perform text preprocessing on the datasets\n",
    "nltk.download('punkt')\n",
    "nltk.download('stopwords')\n",
    "\n",
    "stop_words = set(stopwords.words('english'))\n",
    "stemmer = SnowballStemmer('english')\n",
    "\n",
    "def clean_tweets(text, stem=False):\n",
    "    text = re.sub(r'http\\S+', '', text)  # Remove URLs\n",
    "    text = re.sub(r'@[A-Za-z0-9]+', '', text)  # Remove mentions\n",
    "    text = re.sub(r'#', '', text)  # Remove hashtags\n",
    "    text = re.sub(r'[^A-Za-z\\s]', '', text)  # Remove non-alphabetic characters\n",
    "    text = text.lower().strip()  # Convert to lowercase and remove leading/trailing whitespaces\n",
    "\n",
    "    tokens = []\n",
    "    for token in word_tokenize(text):\n",
    "        if token not in stop_words:\n",
    "            if stem:\n",
    "                tokens.append(stemmer.stem(token))\n",
    "            else:\n",
    "                tokens.append(token)\n",
    "    return \" \".join(tokens)\n",
    "\n",
    "df['cleaned_tweet'] = df['tweet'].apply(lambda x: clean_tweets(x, stem=True))\n",
    "\n",
    "# iii. Word2Vec or GloVe embeddings\n",
    "max_words = 10000\n",
    "max_len = 100\n",
    "\n",
    "tokenizer = Tokenizer(num_words=max_words, oov_token='<OOV>')\n",
    "tokenizer.fit_on_texts(df['cleaned_tweet'])\n",
    "word_index = tokenizer.word_index\n",
    "\n",
    "sequences = tokenizer.texts_to_sequences(df['cleaned_tweet'])\n",
    "padded_sequences = pad_sequences(sequences, maxlen=max_len, padding='post', truncating='post')\n",
    "\n",
    "# Output DataFrame\n",
    "print(df.head(5))\n",
    "from nltk.sentiment import SentimentIntensityAnalyzer\n",
    "# VADER sentiment analyzer Initialization\n",
    "sia = SentimentIntensityAnalyzer()\n",
    "# Method for classifying sentiment\n",
    "def classify_sentiment(text):\n",
    "    sentiment_score = sia.polarity_scores(text)['compound']\n",
    "    return 'Positive' if sentiment_score >= 0.05 else 'Negative'\n",
    "\n",
    "df['sentiment'] = df['tweet'].apply(classify_sentiment)\n",
    "#print dataframe\n",
    "print(df.head())\n",
    "import matplotlib.pyplot as plt\n",
    "# DataFrame and it has a sentiment column with categorical values\n",
    "distribution = df.sentiment.value_counts()\n",
    "plt.figure(figsize=(8,4))\n",
    "\n",
    "# Set colors for each bar\n",
    "colors = ['blue', 'yellow']\n",
    "\n",
    "# background color\n",
    "plt.gca().set_facecolor('lightgray')\n",
    "\n",
    "bars = plt.bar(distribution.index, distribution.values, color=colors[:len(distribution.index)])\n",
    "\n",
    "# Percentage labels on top of the bars\n",
    "total = distribution.sum()  # Total sum for calculating percentages\n",
    "for bar in bars:\n",
    "    yval = bar.get_height()\n",
    "    plt.text(bar.get_x() + bar.get_width()/2, yval, f'{100 * yval/total:.2f}%', ha='center', va='bottom')\n",
    "\n",
    "plt.show()\n",
    "\n",
    "# iv. Split the dataset into training and testing sets\n",
    "X = padded_sequences\n",
    "y = df['sentiment']  # Assumption 'sentiment' is a column containing 'Positive' or 'Negative'\n",
    "\n",
    "X_train, X_test, y_train, y_test = train_test_split(X, y, test_size=0.2, random_state=42)\n",
    "\n",
    "# Load GloVe embeddings\n",
    "embedding_dim = 300\n",
    "glove_model = api.load(\"glove-wiki-gigaword-300\")\n",
    "\n",
    "embedding_matrix = np.zeros((len(word_index) + 1, embedding_dim))\n",
    "\n",
    "for word, i in word_index.items():\n",
    "    if word in glove_model:\n",
    "        embedding_matrix[i] = glove_model[word]\n",
    "\n",
    "# Encode the 'sentiment' column using LabelEncoder\n",
    "label_encoder = LabelEncoder()\n",
    "y_train_encoded = label_encoder.fit_transform(y_train)\n",
    "y_test_encoded = label_encoder.transform(y_test)\n",
    "\n",
    "# Convert to one-hot encoding\n",
    "y_train_categorical = to_categorical(y_train_encoded)\n",
    "y_test_categorical = to_categorical(y_test_encoded)\n",
    "\n",
    "# Model\n",
    "model = Sequential()\n",
    "model.add(Embedding(len(word_index) + 1, embedding_dim, weights=[embedding_matrix], input_length=max_len, trainable=False))\n",
    "model.add(SpatialDropout1D(0.2))\n",
    "model.add(LSTM(64, dropout=0.2, recurrent_dropout=0.2))\n",
    "model.add(Dense(2, activation='softmax'))  # Two units for binary classification\n",
    "\n",
    "# Compile the model\n",
    "model.compile(optimizer='adam', loss='categorical_crossentropy', metrics=['accuracy'])\n",
    "\n",
    "# Train the model\n",
    "history = model.fit(X_train, y_train_categorical, epochs=10, validation_data=(X_test, y_test_categorical), batch_size=1024, callbacks=[EarlyStopping(patience=3)])\n",
    "\n",
    "# Evaluate the model\n",
    "loss, accuracy = model.evaluate(X_test, y_test_categorical)\n",
    "print(f'\\nTest accuracy: {accuracy * 100:.2f}%')\n",
    "plt.plot(history.history['accuracy'], label='Training Accuracy')\n",
    "plt.plot(history.history['val_accuracy'], label='Validation Accuracy')\n",
    "plt.legend()\n",
    "plt.show()"
   ],
   "metadata": {
    "colab": {
     "base_uri": "https://localhost:8080/",
     "height": 1000
    },
    "id": "QakcWMQgUa61",
    "outputId": "58ca5a9a-6a86-47c6-c933-f9f5f7bd592f",
    "ExecuteTime": {
     "start_time": "2024-02-04T10:32:34.893787Z",
     "end_time": "2024-02-04T10:34:26.959745Z"
    }
   },
   "execution_count": 1,
   "outputs": [
    {
     "name": "stderr",
     "output_type": "stream",
     "text": [
      "[nltk_data] Downloading package vader_lexicon to\n",
      "[nltk_data]     /Users/frdrck/nltk_data...\n",
      "[nltk_data]   Package vader_lexicon is already up-to-date!\n",
      "[nltk_data] Downloading package vader_lexicon to\n",
      "[nltk_data]     /Users/frdrck/nltk_data...\n",
      "[nltk_data]   Package vader_lexicon is already up-to-date!\n",
      "[nltk_data] Downloading package punkt to /Users/frdrck/nltk_data...\n",
      "[nltk_data]   Package punkt is already up-to-date!\n",
      "[nltk_data] Downloading package stopwords to\n",
      "[nltk_data]     /Users/frdrck/nltk_data...\n",
      "[nltk_data]   Package stopwords is already up-to-date!\n"
     ]
    },
    {
     "name": "stdout",
     "output_type": "stream",
     "text": [
      "                    id      conversation_id               created_at  \\\n",
      "0  1559350206201831424  1559164894334914561  2022-08-16 01:23:55 UTC   \n",
      "1  1559350194780741632  1559059744517566464  2022-08-16 01:23:52 UTC   \n",
      "2  1559350190150103042  1559350190150103042  2022-08-16 01:23:51 UTC   \n",
      "3  1559350188485009408  1559045429831933952  2022-08-16 01:23:50 UTC   \n",
      "4  1559350170457964547  1553919596280913920  2022-08-16 01:23:46 UTC   \n",
      "\n",
      "         date      time  timezone              user_id         username  \\\n",
      "0  2022-08-16  01:23:55         0   788934038736121856        ezgoingui   \n",
      "1  2022-08-16  01:23:52         0  1278755935918395393  neoliberalsh1ll   \n",
      "2  2022-08-16  01:23:51         0             53003701      sillymickel   \n",
      "3  2022-08-16  01:23:50         0            218734395       newsmatt57   \n",
      "4  2022-08-16  01:23:46         0             75039102   sugarandspicer   \n",
      "\n",
      "            name place  ... source user_rt_id user_rt retweet_id  \\\n",
      "0     omar evans   NaN  ...    NaN        NaN     NaN        NaN   \n",
      "1  NeoLib Shill🌐   NaN  ...    NaN        NaN     NaN        NaN   \n",
      "2  Mickel Adzema   NaN  ...    NaN        NaN     NaN        NaN   \n",
      "3   Matt Stevens   NaN  ...    NaN        NaN     NaN        NaN   \n",
      "4    Jackie🕵🏼‍♀️   NaN  ...    NaN        NaN     NaN        NaN   \n",
      "\n",
      "                                            reply_to  retweet_date  translate  \\\n",
      "0  [{'screen_name': 'Emywinst', 'name': 'Emily Wi...           NaN        NaN   \n",
      "1  [{'screen_name': 'Isaiah545251391', 'name': 'M...           NaN        NaN   \n",
      "2                                                 []           NaN        NaN   \n",
      "3  [{'screen_name': 'AllThingzTRUMP', 'name': 'In...           NaN        NaN   \n",
      "4                                                 []           NaN        NaN   \n",
      "\n",
      "   trans_src trans_dest                                      cleaned_tweet  \n",
      "0        NaN        NaN  think trump get readi leav countri doj move do...  \n",
      "1        NaN        NaN  piti budget youd expect taiwan tri effici litt...  \n",
      "2        NaN        NaN  russia said alreadi seen nuclear secret stolen...  \n",
      "3        NaN        NaN  thought russia hoax true didnt steel dossier h...  \n",
      "4        NaN        NaN  liter thought joke whole time call crown princ...  \n",
      "\n",
      "[5 rows x 37 columns]\n",
      "                    id      conversation_id               created_at  \\\n",
      "0  1559350206201831424  1559164894334914561  2022-08-16 01:23:55 UTC   \n",
      "1  1559350194780741632  1559059744517566464  2022-08-16 01:23:52 UTC   \n",
      "2  1559350190150103042  1559350190150103042  2022-08-16 01:23:51 UTC   \n",
      "3  1559350188485009408  1559045429831933952  2022-08-16 01:23:50 UTC   \n",
      "4  1559350170457964547  1553919596280913920  2022-08-16 01:23:46 UTC   \n",
      "\n",
      "         date      time  timezone              user_id         username  \\\n",
      "0  2022-08-16  01:23:55         0   788934038736121856        ezgoingui   \n",
      "1  2022-08-16  01:23:52         0  1278755935918395393  neoliberalsh1ll   \n",
      "2  2022-08-16  01:23:51         0             53003701      sillymickel   \n",
      "3  2022-08-16  01:23:50         0            218734395       newsmatt57   \n",
      "4  2022-08-16  01:23:46         0             75039102   sugarandspicer   \n",
      "\n",
      "            name place  ... user_rt_id user_rt retweet_id  \\\n",
      "0     omar evans   NaN  ...        NaN     NaN        NaN   \n",
      "1  NeoLib Shill🌐   NaN  ...        NaN     NaN        NaN   \n",
      "2  Mickel Adzema   NaN  ...        NaN     NaN        NaN   \n",
      "3   Matt Stevens   NaN  ...        NaN     NaN        NaN   \n",
      "4    Jackie🕵🏼‍♀️   NaN  ...        NaN     NaN        NaN   \n",
      "\n",
      "                                            reply_to retweet_date  translate  \\\n",
      "0  [{'screen_name': 'Emywinst', 'name': 'Emily Wi...          NaN        NaN   \n",
      "1  [{'screen_name': 'Isaiah545251391', 'name': 'M...          NaN        NaN   \n",
      "2                                                 []          NaN        NaN   \n",
      "3  [{'screen_name': 'AllThingzTRUMP', 'name': 'In...          NaN        NaN   \n",
      "4                                                 []          NaN        NaN   \n",
      "\n",
      "   trans_src  trans_dest                                      cleaned_tweet  \\\n",
      "0        NaN         NaN  think trump get readi leav countri doj move do...   \n",
      "1        NaN         NaN  piti budget youd expect taiwan tri effici litt...   \n",
      "2        NaN         NaN  russia said alreadi seen nuclear secret stolen...   \n",
      "3        NaN         NaN  thought russia hoax true didnt steel dossier h...   \n",
      "4        NaN         NaN  liter thought joke whole time call crown princ...   \n",
      "\n",
      "  sentiment  \n",
      "0  Positive  \n",
      "1  Positive  \n",
      "2  Negative  \n",
      "3  Positive  \n",
      "4  Negative  \n",
      "\n",
      "[5 rows x 38 columns]\n"
     ]
    },
    {
     "data": {
      "text/plain": "<Figure size 800x400 with 1 Axes>",
      "image/png": "[encoded data removed]"
     },
     "metadata": {},
     "output_type": "display_data"
    },
    {
     "name": "stdout",
     "output_type": "stream",
     "text": [
      "Epoch 1/10\n"
     ]
    },
    {
     "name": "stderr",
     "output_type": "stream",
     "text": [
      "2024-02-04 10:33:32.157017: W tensorflow/tsl/platform/profile_utils/cpu_utils.cc:128] Failed to get CPU frequency: 0 Hz\n"
     ]
    },
    {
     "name": "stdout",
     "output_type": "stream",
     "text": [
      "8/8 [==============================] - 6s 716ms/step - loss: 0.6788 - accuracy: 0.7001 - val_loss: 0.6529 - val_accuracy: 0.7106\n",
      "Epoch 2/10\n",
      "8/8 [==============================] - 7s 881ms/step - loss: 0.6338 - accuracy: 0.7108 - val_loss: 0.6037 - val_accuracy: 0.7106\n",
      "Epoch 3/10\n",
      "8/8 [==============================] - 7s 803ms/step - loss: 0.6085 - accuracy: 0.7108 - val_loss: 0.6157 - val_accuracy: 0.7106\n",
      "Epoch 4/10\n",
      "8/8 [==============================] - 6s 801ms/step - loss: 0.6140 - accuracy: 0.7108 - val_loss: 0.6090 - val_accuracy: 0.7106\n",
      "Epoch 5/10\n",
      "8/8 [==============================] - 6s 795ms/step - loss: 0.6045 - accuracy: 0.7108 - val_loss: 0.6015 - val_accuracy: 0.7106\n",
      "Epoch 6/10\n",
      "8/8 [==============================] - 6s 822ms/step - loss: 0.6027 - accuracy: 0.7108 - val_loss: 0.6029 - val_accuracy: 0.7106\n",
      "Epoch 7/10\n",
      "8/8 [==============================] - 7s 856ms/step - loss: 0.6016 - accuracy: 0.7108 - val_loss: 0.6015 - val_accuracy: 0.7106\n",
      "Epoch 8/10\n",
      "8/8 [==============================] - 7s 846ms/step - loss: 0.6016 - accuracy: 0.7108 - val_loss: 0.6020 - val_accuracy: 0.7106\n",
      "63/63 [==============================] - 2s 29ms/step - loss: 0.6020 - accuracy: 0.7106\n",
      "\n",
      "Test accuracy: 71.06%\n"
     ]
    },
    {
     "data": {
      "text/plain": "<Figure size 640x480 with 1 Axes>",
      "image/png": "[encoded data removed]"
     },
     "metadata": {},
     "output_type": "display_data"
    }
   ]
  },
  {
   "cell_type": "code",
   "source": [
    "y_pred_prob = model.predict(X_test)\n",
    "y_pred = np.argmax(y_pred_prob, axis=1)  # Get the index of the max probability as predicted class\n",
    "\n",
    "# Convert one-hot encoded y_test_labels to binary\n",
    "if len(y_test_categorical.shape) > 1:\n",
    "    y_test_labels = np.argmax(y_test_categorical, axis=1)\n",
    "\n",
    "# Calculate metrics with zero_division parameter set to 'warn'\n",
    "accuracy = accuracy_score(y_test_labels, y_pred) * 100\n",
    "precision = precision_score(y_test_labels, y_pred, zero_division=1) * 100\n",
    "recall = recall_score(y_test_labels, y_pred, zero_division=1) * 100\n",
    "f1 = f1_score(y_test_labels, y_pred, zero_division=1) * 100\n",
    "\n",
    "print(f\"Accuracy: {accuracy:.2f}%\")\n",
    "print(f\"Precision: {precision:.2f}%\")\n",
    "print(f\"Recall: {recall:.2f}%\")\n",
    "print(f\"F1-Score: {f1:.2f}%\")\n",
    "\n",
    "# Display detailed classification report\n",
    "print(classification_report(y_test_labels, y_pred, zero_division=1))"
   ],
   "metadata": {
    "colab": {
     "base_uri": "https://localhost:8080/"
    },
    "id": "b4sJWSx05IXk",
    "outputId": "591d5b88-18d7-4452-9d0f-a07fbf304246",
    "ExecuteTime": {
     "start_time": "2024-01-24T06:29:19.461518Z",
     "end_time": "2024-01-24T06:29:20.904483Z"
    }
   },
   "execution_count": 6,
   "outputs": [
    {
     "name": "stdout",
     "output_type": "stream",
     "text": [
      "63/63 [==============================] - 1s 19ms/step\n",
      "Accuracy: 71.06%\n",
      "Precision: 100.00%\n",
      "Recall: 0.00%\n",
      "F1-Score: 0.00%\n",
      "              precision    recall  f1-score   support\n",
      "\n",
      "           0       0.71      1.00      0.83      1424\n",
      "           1       1.00      0.00      0.00       580\n",
      "\n",
      "    accuracy                           0.71      2004\n",
      "   macro avg       0.86      0.50      0.42      2004\n",
      "weighted avg       0.79      0.71      0.59      2004\n",
      "\n"
     ]
    }
   ]
  },
  {
   "cell_type": "code",
   "execution_count": 9,
   "outputs": [
    {
     "name": "stdout",
     "output_type": "stream",
     "text": [
      "Epoch 1/10\n",
      "57/57 [==============================] - 18s 311ms/step - loss: 0.6146 - accuracy: 0.7003 - val_loss: 0.5728 - val_accuracy: 0.7406\n",
      "Epoch 2/10\n",
      "57/57 [==============================] - 18s 319ms/step - loss: 0.6049 - accuracy: 0.7075 - val_loss: 0.5724 - val_accuracy: 0.7406\n",
      "Epoch 3/10\n",
      "57/57 [==============================] - 18s 321ms/step - loss: 0.6058 - accuracy: 0.7075 - val_loss: 0.5732 - val_accuracy: 0.7406\n",
      "Epoch 4/10\n",
      "57/57 [==============================] - 18s 325ms/step - loss: 0.6056 - accuracy: 0.7075 - val_loss: 0.5758 - val_accuracy: 0.7406\n",
      "Epoch 5/10\n",
      "57/57 [==============================] - 18s 319ms/step - loss: 0.6054 - accuracy: 0.7075 - val_loss: 0.5801 - val_accuracy: 0.7406\n",
      "251/251 [==============================] - 4s 14ms/step - loss: 0.6031 - accuracy: 0.7108\n",
      "\n",
      "Test accuracy: 71.08%\n"
     ]
    },
    {
     "data": {
      "text/plain": "<Figure size 640x480 with 1 Axes>",
      "image/png": "[encoded data removed]"
     },
     "metadata": {},
     "output_type": "display_data"
    }
   ],
   "source": [
    "from sklearn.preprocessing import LabelEncoder\n",
    "from keras.layers import Embedding, SpatialDropout1D, GRU, Dense\n",
    "\n",
    "# Model\n",
    "gru_units = 64\n",
    "model = Sequential()\n",
    "model.add(Embedding(input_dim=max_words, output_dim=embedding_dim, input_length=max_len))\n",
    "model.add(SpatialDropout1D(0.2))\n",
    "model.add(GRU(units=gru_units, dropout=0.2, recurrent_dropout=0.2))\n",
    "model.add(Dense(units=1, activation='sigmoid'))\n",
    "\n",
    "label_encoder = LabelEncoder()\n",
    "y_encoded_train = label_encoder.fit_transform(y_train)\n",
    "y_encoded_test = label_encoder.transform(y_test)\n",
    "\n",
    "# Update the model output layer for binary classification\n",
    "model.compile(optimizer='adam', loss='binary_crossentropy', metrics=['accuracy'])\n",
    "\n",
    "history = model.fit(X_train, y_encoded_train, epochs=10, validation_split=0.1, batch_size=128, callbacks=[EarlyStopping(patience=3)])\n",
    "\n",
    "# Visualize training history\n",
    "loss, accuracy = model.evaluate(X_train, y_encoded_train)\n",
    "import matplotlib.pyplot as plt\n",
    "print(f'\\nTest accuracy: {accuracy * 100:.2f}%')\n",
    "plt.plot(history.history['accuracy'], label='Training Accuracy')\n",
    "plt.plot(history.history['val_accuracy'], label='Validation Accuracy')\n",
    "plt.legend()\n",
    "plt.show()"
   ],
   "metadata": {
    "collapsed": false,
    "ExecuteTime": {
     "start_time": "2024-01-24T06:36:05.092519Z",
     "end_time": "2024-01-24T06:37:40.811665Z"
    }
   }
  },
  {
   "cell_type": "code",
   "execution_count": 62,
   "outputs": [
    {
     "name": "stderr",
     "output_type": "stream",
     "text": [
      "[nltk_data] Downloading package punkt to /Users/frdrck/nltk_data...\n",
      "[nltk_data]   Package punkt is already up-to-date!\n"
     ]
    },
    {
     "data": {
      "text/plain": "                                                   text  label\n0     House Dem Aide: We Didn’t Even See Comey’s Let...      1\n1     Ever get the feeling your life circles the rou...      0\n2     Why the Truth Might Get You Fired October 29, ...      1\n3     Videos 15 Civilians Killed In Single US Airstr...      1\n4     Print \\nAn Iranian woman has been sentenced to...      1\n...                                                 ...    ...\n4676  Rapper T. I. unloaded on black celebrities who...      0\n4677  When the Green Bay Packers lost to the Washing...      0\n4678  The Macy’s of today grew from the union of sev...      0\n4679  NATO, Russia To Hold Parallel Exercises In Bal...      1\n4680    David Swanson is an author, activist, journa...      1\n\n[4681 rows x 2 columns]",
      "text/html": "<div>\n<style scoped>\n    .dataframe tbody tr th:only-of-type {\n        vertical-align: middle;\n    }\n\n    .dataframe tbody tr th {\n        vertical-align: top;\n    }\n\n    .dataframe thead th {\n        text-align: right;\n    }\n</style>\n<table border=\"1\" class=\"dataframe\">\n  <thead>\n    <tr style=\"text-align: right;\">\n      <th></th>\n      <th>text</th>\n      <th>label</th>\n    </tr>\n  </thead>\n  <tbody>\n    <tr>\n      <th>0</th>\n      <td>House Dem Aide: We Didn’t Even See Comey’s Let...</td>\n      <td>1</td>\n    </tr>\n    <tr>\n      <th>1</th>\n      <td>Ever get the feeling your life circles the rou...</td>\n      <td>0</td>\n    </tr>\n    <tr>\n      <th>2</th>\n      <td>Why the Truth Might Get You Fired October 29, ...</td>\n      <td>1</td>\n    </tr>\n    <tr>\n      <th>3</th>\n      <td>Videos 15 Civilians Killed In Single US Airstr...</td>\n      <td>1</td>\n    </tr>\n    <tr>\n      <th>4</th>\n      <td>Print \\nAn Iranian woman has been sentenced to...</td>\n      <td>1</td>\n    </tr>\n    <tr>\n      <th>...</th>\n      <td>...</td>\n      <td>...</td>\n    </tr>\n    <tr>\n      <th>4676</th>\n      <td>Rapper T. I. unloaded on black celebrities who...</td>\n      <td>0</td>\n    </tr>\n    <tr>\n      <th>4677</th>\n      <td>When the Green Bay Packers lost to the Washing...</td>\n      <td>0</td>\n    </tr>\n    <tr>\n      <th>4678</th>\n      <td>The Macy’s of today grew from the union of sev...</td>\n      <td>0</td>\n    </tr>\n    <tr>\n      <th>4679</th>\n      <td>NATO, Russia To Hold Parallel Exercises In Bal...</td>\n      <td>1</td>\n    </tr>\n    <tr>\n      <th>4680</th>\n      <td>David Swanson is an author, activist, journa...</td>\n      <td>1</td>\n    </tr>\n  </tbody>\n</table>\n<p>4681 rows × 2 columns</p>\n</div>"
     },
     "execution_count": 62,
     "metadata": {},
     "output_type": "execute_result"
    }
   ],
   "source": [
    "import numpy as np\n",
    "import pandas as pd\n",
    "from sklearn.model_selection import train_test_split\n",
    "from sklearn.metrics import accuracy_score, precision_score, recall_score, f1_score\n",
    "from sklearn.tree import DecisionTreeClassifier\n",
    "from sklearn.naive_bayes import GaussianNB\n",
    "from sklearn.neighbors import KNeighborsClassifier\n",
    "from sklearn.ensemble import RandomForestClassifier\n",
    "from sklearn.svm import SVC\n",
    "from tabulate import tabulate\n",
    "from gensim.models import Word2Vec\n",
    "import nltk\n",
    "from nltk import sent_tokenize\n",
    "\n",
    "nltk.download('punkt')\n",
    "\n",
    "# i. Get tweets dataset.\n",
    "url = \"https://raw.githubusercontent.com/deepakmoud/datasets-for-experiment/main/train%202.csv\"\n",
    "\n",
    "df = pd.read_csv(url)\n",
    "df.rename({'video': 'label'}, inplace=True)\n",
    "\n",
    "df"
   ],
   "metadata": {
    "collapsed": false,
    "ExecuteTime": {
     "start_time": "2024-02-04T19:16:33.556577Z",
     "end_time": "2024-02-04T19:16:49.755641Z"
    }
   }
  },
  {
   "cell_type": "code",
   "execution_count": 64,
   "outputs": [
    {
     "data": {
      "text/plain": "0       [House Dem Aide: We Didn’t Even See Comey’s Le...\n1       [Ever get the feeling your life circles the ro...\n2       [Why the Truth Might Get You Fired October 29,...\n3       [Videos 15 Civilians Killed In Single US Airst...\n4       [Print \\nAn Iranian woman has been sentenced t...\n                              ...                        \n4676    [Rapper T. I. unloaded on black celebrities wh...\n4677    [When the Green Bay Packers lost to the Washin...\n4678    [The Macy’s of today grew from the union of se...\n4679    [NATO, Russia To Hold Parallel Exercises In Ba...\n4680    [  David Swanson is an author, activist, journ...\nName: tokenized_text, Length: 4681, dtype: object"
     },
     "execution_count": 64,
     "metadata": {},
     "output_type": "execute_result"
    }
   ],
   "source": [
    "df['tokenized_text'] = df['text'].apply(lambda x:sent_tokenize(str(x)))\n",
    "\n",
    "df['tokenized_text']"
   ],
   "metadata": {
    "collapsed": false,
    "ExecuteTime": {
     "start_time": "2024-02-04T19:17:35.905475Z",
     "end_time": "2024-02-04T19:17:37.694595Z"
    }
   }
  },
  {
   "cell_type": "code",
   "execution_count": 65,
   "outputs": [
    {
     "data": {
      "text/plain": "                                                   text  label  \\\n0     House Dem Aide: We Didn’t Even See Comey’s Let...      1   \n1     Ever get the feeling your life circles the rou...      0   \n2     Why the Truth Might Get You Fired October 29, ...      1   \n3     Videos 15 Civilians Killed In Single US Airstr...      1   \n4     Print \\nAn Iranian woman has been sentenced to...      1   \n...                                                 ...    ...   \n4676  Rapper T. I. unloaded on black celebrities who...      0   \n4677  When the Green Bay Packers lost to the Washing...      0   \n4678  The Macy’s of today grew from the union of sev...      0   \n4679  NATO, Russia To Hold Parallel Exercises In Bal...      1   \n4680    David Swanson is an author, activist, journa...      1   \n\n                                         tokenized_text  \n0     [House Dem Aide: We Didn’t Even See Comey’s Le...  \n1     [Ever get the feeling your life circles the ro...  \n2     [Why the Truth Might Get You Fired October 29,...  \n3     [Videos 15 Civilians Killed In Single US Airst...  \n4     [Print \\nAn Iranian woman has been sentenced t...  \n...                                                 ...  \n4676  [Rapper T. I. unloaded on black celebrities wh...  \n4677  [When the Green Bay Packers lost to the Washin...  \n4678  [The Macy’s of today grew from the union of se...  \n4679  [NATO, Russia To Hold Parallel Exercises In Ba...  \n4680  [  David Swanson is an author, activist, journ...  \n\n[4681 rows x 3 columns]",
      "text/html": "<div>\n<style scoped>\n    .dataframe tbody tr th:only-of-type {\n        vertical-align: middle;\n    }\n\n    .dataframe tbody tr th {\n        vertical-align: top;\n    }\n\n    .dataframe thead th {\n        text-align: right;\n    }\n</style>\n<table border=\"1\" class=\"dataframe\">\n  <thead>\n    <tr style=\"text-align: right;\">\n      <th></th>\n      <th>text</th>\n      <th>label</th>\n      <th>tokenized_text</th>\n    </tr>\n  </thead>\n  <tbody>\n    <tr>\n      <th>0</th>\n      <td>House Dem Aide: We Didn’t Even See Comey’s Let...</td>\n      <td>1</td>\n      <td>[House Dem Aide: We Didn’t Even See Comey’s Le...</td>\n    </tr>\n    <tr>\n      <th>1</th>\n      <td>Ever get the feeling your life circles the rou...</td>\n      <td>0</td>\n      <td>[Ever get the feeling your life circles the ro...</td>\n    </tr>\n    <tr>\n      <th>2</th>\n      <td>Why the Truth Might Get You Fired October 29, ...</td>\n      <td>1</td>\n      <td>[Why the Truth Might Get You Fired October 29,...</td>\n    </tr>\n    <tr>\n      <th>3</th>\n      <td>Videos 15 Civilians Killed In Single US Airstr...</td>\n      <td>1</td>\n      <td>[Videos 15 Civilians Killed In Single US Airst...</td>\n    </tr>\n    <tr>\n      <th>4</th>\n      <td>Print \\nAn Iranian woman has been sentenced to...</td>\n      <td>1</td>\n      <td>[Print \\nAn Iranian woman has been sentenced t...</td>\n    </tr>\n    <tr>\n      <th>...</th>\n      <td>...</td>\n      <td>...</td>\n      <td>...</td>\n    </tr>\n    <tr>\n      <th>4676</th>\n      <td>Rapper T. I. unloaded on black celebrities who...</td>\n      <td>0</td>\n      <td>[Rapper T. I. unloaded on black celebrities wh...</td>\n    </tr>\n    <tr>\n      <th>4677</th>\n      <td>When the Green Bay Packers lost to the Washing...</td>\n      <td>0</td>\n      <td>[When the Green Bay Packers lost to the Washin...</td>\n    </tr>\n    <tr>\n      <th>4678</th>\n      <td>The Macy’s of today grew from the union of sev...</td>\n      <td>0</td>\n      <td>[The Macy’s of today grew from the union of se...</td>\n    </tr>\n    <tr>\n      <th>4679</th>\n      <td>NATO, Russia To Hold Parallel Exercises In Bal...</td>\n      <td>1</td>\n      <td>[NATO, Russia To Hold Parallel Exercises In Ba...</td>\n    </tr>\n    <tr>\n      <th>4680</th>\n      <td>David Swanson is an author, activist, journa...</td>\n      <td>1</td>\n      <td>[  David Swanson is an author, activist, journ...</td>\n    </tr>\n  </tbody>\n</table>\n<p>4681 rows × 3 columns</p>\n</div>"
     },
     "execution_count": 65,
     "metadata": {},
     "output_type": "execute_result"
    }
   ],
   "source": [
    "df"
   ],
   "metadata": {
    "collapsed": false,
    "ExecuteTime": {
     "start_time": "2024-02-04T19:17:46.404308Z",
     "end_time": "2024-02-04T19:17:46.409437Z"
    }
   }
  },
  {
   "cell_type": "code",
   "execution_count": 66,
   "outputs": [
    {
     "data": {
      "text/plain": "(4639,)"
     },
     "execution_count": 66,
     "metadata": {},
     "output_type": "execute_result"
    }
   ],
   "source": [
    "X_train,X_test,y_train,y_test = train_test_split(df['tokenized_text'], df['label'], test_size=42)\n",
    "\n",
    "X_train.shape"
   ],
   "metadata": {
    "collapsed": false,
    "ExecuteTime": {
     "start_time": "2024-02-04T19:17:54.214304Z",
     "end_time": "2024-02-04T19:17:54.219386Z"
    }
   }
  },
  {
   "cell_type": "code",
   "execution_count": 67,
   "outputs": [
    {
     "data": {
      "text/plain": "(42,)"
     },
     "execution_count": 67,
     "metadata": {},
     "output_type": "execute_result"
    }
   ],
   "source": [
    "X_test.shape"
   ],
   "metadata": {
    "collapsed": false,
    "ExecuteTime": {
     "start_time": "2024-02-04T19:17:55.593687Z",
     "end_time": "2024-02-04T19:17:55.597900Z"
    }
   }
  },
  {
   "cell_type": "code",
   "execution_count": 68,
   "outputs": [],
   "source": [
    "#Is used-to train a Word2Vec model on the tokenized sentences from the training data (X_train)\n",
    "word2vec_model = Word2Vec(sentences = X_train, vector_size=100, window=5, min_count=1, workers=4)"
   ],
   "metadata": {
    "collapsed": false,
    "ExecuteTime": {
     "start_time": "2024-02-04T19:18:03.329314Z",
     "end_time": "2024-02-04T19:18:04.944254Z"
    }
   }
  },
  {
   "cell_type": "code",
   "execution_count": 69,
   "outputs": [],
   "source": [
    "#The code you provided defines a function word2vec_transform and then applies this function to\n",
    "#the tokenized text in the training and testing sets\n",
    "def word2vec_transform(tokenized_text):\n",
    "    vectors = [word2vec_model.wv[word] for word in tokenized_text if word in word2vec_model.wv]\n",
    "    if not vectors:\n",
    "        return [0]*100\n",
    "    return sum(vectors)/len(vectors)\n",
    "\n",
    "x_train_w2v = X_train.apply(word2vec_transform)\n",
    "x_test_w2v = X_test.apply(word2vec_transform)"
   ],
   "metadata": {
    "collapsed": false,
    "ExecuteTime": {
     "start_time": "2024-02-04T19:18:06.385889Z",
     "end_time": "2024-02-04T19:18:06.523614Z"
    }
   }
  },
  {
   "cell_type": "code",
   "execution_count": 70,
   "outputs": [],
   "source": [
    "def word2vec_transform(tokens):\n",
    "    vectors = [word2vec_model.wv[word] for word in tokens if word in word2vec_model.wv]\n",
    "    if not vectors:\n",
    "        return np.zeros(100)\n",
    "    return np.mean(vectors, axis=0)"
   ],
   "metadata": {
    "collapsed": false,
    "ExecuteTime": {
     "start_time": "2024-02-04T19:18:10.419727Z",
     "end_time": "2024-02-04T19:18:10.423930Z"
    }
   }
  },
  {
   "cell_type": "code",
   "execution_count": 72,
   "outputs": [
    {
     "name": "stdout",
     "output_type": "stream",
     "text": [
      "[[-8.17052182e-03  3.94269032e-03  1.02203223e-03 ... -3.45049705e-03\n",
      "  -2.04037223e-03 -3.31896404e-03]\n",
      " [ 2.45821080e-03 -4.90060134e-04 -2.35195318e-03 ...  2.87276483e-03\n",
      "  -9.51817085e-04 -1.24570576e-03]\n",
      " [-4.62905271e-04  3.54586868e-04 -1.95596276e-05 ... -5.28604724e-04\n",
      "  -7.28353567e-04 -1.01754395e-03]\n",
      " ...\n",
      " [ 2.99604697e-04  2.29738816e-03 -4.71893611e-04 ...  5.13229927e-04\n",
      "   1.00159680e-03 -5.43925678e-04]\n",
      " [-7.71223975e-04 -1.49345119e-03  7.13806599e-04 ...  1.75863112e-04\n",
      "   9.36357188e-04  8.20300367e-04]\n",
      " [-1.68435668e-04  3.30310687e-03 -2.11151759e-03 ...  1.86444173e-04\n",
      "   3.43370065e-03  4.53042703e-05]]\n"
     ]
    }
   ],
   "source": [
    "x_train_simple = np.vstack(x_train_w2v) #Stack arrays in sequence vertically (row wise)\n",
    "x_test_simple = np.vstack(x_test_w2v)\n",
    "print(x_train_simple)"
   ],
   "metadata": {
    "collapsed": false,
    "ExecuteTime": {
     "start_time": "2024-02-04T19:18:44.743712Z",
     "end_time": "2024-02-04T19:18:44.749966Z"
    }
   }
  },
  {
   "cell_type": "code",
   "execution_count": 73,
   "outputs": [],
   "source": [
    "# Initialize and train the models\n",
    "models = {\n",
    "    \"Decision Tree\": DecisionTreeClassifier(),\n",
    "    \"Naive Bayes\": GaussianNB(),\n",
    "    \"KNN\": KNeighborsClassifier(),\n",
    "    \"Random Forest\": RandomForestClassifier(),\n",
    "    \"Support Vector Machine\": SVC()\n",
    "}\n",
    "\n",
    "results= {}\n",
    "\n",
    "for model_name, model in models.items():\n",
    "    model.fit(x_train_simple, y_train)\n",
    "    y_pred = model.predict(x_test_simple)\n",
    "\n",
    "    accuracy = accuracy_score(y_test, y_pred)\n",
    "    precision = precision_score(y_test, y_pred)\n",
    "    recall = recall_score(y_test, y_pred)\n",
    "    f1 = f1_score(y_test, y_pred)\n",
    "\n",
    "    results[model_name] = {\n",
    "        \"Accuracy\": accuracy,\n",
    "        \"Precision\": precision,\n",
    "        \"Recall\": recall,\n",
    "        \"F1 Score\": f1\n",
    "}"
   ],
   "metadata": {
    "collapsed": false,
    "ExecuteTime": {
     "start_time": "2024-02-04T19:18:45.890334Z",
     "end_time": "2024-02-04T19:18:51.017525Z"
    }
   }
  },
  {
   "cell_type": "code",
   "execution_count": 74,
   "outputs": [
    {
     "name": "stdout",
     "output_type": "stream",
     "text": [
      "+------------------------+----------+-----------+-------------+----------+\n",
      "|         Model          | Accuracy | Precision |   Recall    | F1 Score |\n",
      "+------------------------+----------+-----------+-------------+----------+\n",
      "|     Decision Tree      |  61.90%  |  60.53%   | 95.833333%  |  74.19%  |\n",
      "|      Naive Bayes       |  38.10%  |  45.00%   | 37.500000%  |  40.91%  |\n",
      "|          KNN           |  73.81%  |  70.97%   | 91.666667%  |  80.00%  |\n",
      "|     Random Forest      |  59.52%  |  58.54%   | 100.000000% |  73.85%  |\n",
      "| Support Vector Machine |  38.10%  |  45.00%   | 37.500000%  |  40.91%  |\n",
      "+------------------------+----------+-----------+-------------+----------+\n",
      "\n",
      "The best model based on accuracy is KNN,\n"
     ]
    }
   ],
   "source": [
    "# Convert metrics to percentage format\n",
    "table_data_percent = [\n",
    "    [model_name, f'{metrics[\"Accuracy\"] * 100:.2f}%', f'{metrics[\"Precision\"] * 100:.2f}%', f'{metrics[\"Recall\"] * 100:-2f}%', f'{metrics[\"F1 Score\"] * 100:.2f}%']\n",
    "    for model_name, metrics in results.items()\n",
    "]\n",
    "# Print the results in a table\n",
    "table_headers = [\"Model\", \"Accuracy\", \"Precision\", \"Recall\", \"F1 Score\"]\n",
    "print(tabulate(table_data_percent, headers=table_headers, tablefmt=\"pretty\"))\n",
    "# Find the best model based on accuracy\n",
    "best_model = max(results, key=lambda x: results[x][\"Accuracy\"])\n",
    "print(f\"\\nThe best model based on accuracy is {best_model},\")"
   ],
   "metadata": {
    "collapsed": false,
    "ExecuteTime": {
     "start_time": "2024-02-04T19:18:54.370251Z",
     "end_time": "2024-02-04T19:18:54.374087Z"
    }
   }
  },
  {
   "cell_type": "code",
   "execution_count": 53,
   "outputs": [],
   "source": [],
   "metadata": {
    "collapsed": false,
    "ExecuteTime": {
     "start_time": "2024-02-04T18:49:20.866698Z",
     "end_time": "2024-02-04T18:49:20.888107Z"
    }
   }
  }
 ]
}
